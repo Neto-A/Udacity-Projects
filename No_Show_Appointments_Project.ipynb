{
 "cells": [
  {
   "cell_type": "markdown",
   "metadata": {},
   "source": [
    "# Project: Investigate a Dataset - [No-Show Appointments 2016]\n",
    "\n",
    "## Table of Contents\n",
    "<ul>\n",
    "<li><a href=\"#intro\">Introduction</a></li>\n",
    "<li><a href=\"#wrangling\">Data Wrangling</a></li>\n",
    "<li><a href=\"#eda\">Exploratory Data Analysis</a></li>\n",
    "<li><a href=\"#conclusions\">Conclusions</a></li>\n",
    "<li><a href=\"#recommendations\">Recommendations</a></li>\n",
    "<li><a href=\"#references\">References</a></li>\n",
    "</ul>"
   ]
  },
  {
   "cell_type": "markdown",
   "metadata": {},
   "source": [
    "<a id='intro'></a>\n",
    "## Introduction\n",
    "\n",
    "### Dataset Description \n",
    "\n",
    "> Hi! I'm Neto Anyama and this is my first technical project for this nanodegree course. I cleaned, analyzed and visualized the No-Show Appointments dataset, obtained from [Kaggle](https://www.kaggle.com/datasets/joniarroba/noshowappointments?page=3). \n",
    "The dataset contained over 100,000 entries, arranged over the following columns:\n",
    "   * PatientId: Each patient's unique identification number.\n",
    "   * AppointmentID: Each patient's unique identification number for each scheduled appointment.\n",
    "   * Gender: Female (F) or Male (M)\n",
    "   * ScheduledDay: The date and time each appointment was scheduled.\n",
    "   * AppointmentDay: The actual date of each scheduled appointment.\n",
    "   * Age: Patients' ages.\n",
    "   * Neighbourhood: where each patient lives\n",
    "   * Scholarship: whether or not the patient is enrolled in [Bolsa Família](https://en.wikipedia.org/wiki/Bolsa_Fam%C3%ADlia), a welfare program set up by the Government of Brazil, between 2003 and 2021.\n",
    "   * Hipertension: records of whether each patient has hypertension or not.\n",
    "   * Diabetes: records of whether each patient has diabetes or not.\n",
    "   * Alcoholism: records of whether each patient suffers from chronic alcoholism or not.\n",
    "   * Handcap: records of whether each patient has some sort of handicap or not.\n",
    "   * SMS_received: records of whether each patient received an SMS reminder for their scheduled appointment or not.\n",
    "   * No-Show: records of whether or not a patient met an appointment. Here, 'No' means the patient was not a no show, i.e. the patient kept the appointment.\n",
    "\n",
    "   *For all the records from Scholarship to SMS_received, 1 means positive (or received) or negative (or not received).*\n",
    "\n",
    "\n",
    "### Question(s) for Analysis\n",
    ">At a glance, before getting into the rest of the process, I posed a few questions to be answered at the end of this analysis. These questions guided further wrangling and analysis of the data.\n",
    "\n",
    "   1. What percentage of patients __kept__ their scheduled appointments?\n",
    "   2. Which gender is more likely to __schedule__ an appointment?\n",
    "   3. Patients of which age groups are most and least likely to __schedule__ an appointment? Least likely?\n",
    "       * These questions reflect on [health seeking behaviour](https://www.ncbi.nlm.nih.gov/pmc/articles/PMC6143883/#:~:text=Healthcare%20seeking%20behaviour%20(HSB)%20has,behaviour%20or%20sick%2Dterm%20behaviour) of patients.     \n",
    "   4. Which gender is more likely to __keep__ an appointment?\n",
    "   5. Patients of which age groups are most and least likely to __keep__ an appointment? \n",
    "   6. From what neighbourhood do the most patients who keep their appointments come? \n",
    "   7. From what neighbourhood do the fewest patients who keep their appointments come? \n",
    "   8. How many patients on Bolsa Familia keep their appointments?\n",
    "   9. Do certain conditions (in this case, hypertension, diabetes, alcoholism and handicap) affect showing up for appointments?\n",
    "   10. Does receiving an SMS reminder help patients keep their appointments?\n"
   ]
  },
  {
   "cell_type": "code",
   "execution_count": 66,
   "metadata": {},
   "outputs": [],
   "source": [
    "# Import statements of all the packages that I used.\n",
    "import pandas as pd\n",
    "import numpy as np\n",
    "%matplotlib inline\n",
    "import seaborn as sns\n",
    "import matplotlib.pyplot as plt\n",
    "sns.set_style(\"dark\")"
   ]
  },
  {
   "cell_type": "code",
   "execution_count": 67,
   "metadata": {},
   "outputs": [
    {
     "data": {
      "text/html": [
       "<div>\n",
       "<style scoped>\n",
       "    .dataframe tbody tr th:only-of-type {\n",
       "        vertical-align: middle;\n",
       "    }\n",
       "\n",
       "    .dataframe tbody tr th {\n",
       "        vertical-align: top;\n",
       "    }\n",
       "\n",
       "    .dataframe thead th {\n",
       "        text-align: right;\n",
       "    }\n",
       "</style>\n",
       "<table border=\"1\" class=\"dataframe\">\n",
       "  <thead>\n",
       "    <tr style=\"text-align: right;\">\n",
       "      <th></th>\n",
       "      <th>PatientId</th>\n",
       "      <th>AppointmentID</th>\n",
       "      <th>Gender</th>\n",
       "      <th>ScheduledDay</th>\n",
       "      <th>AppointmentDay</th>\n",
       "      <th>Age</th>\n",
       "      <th>Neighbourhood</th>\n",
       "      <th>Scholarship</th>\n",
       "      <th>Hipertension</th>\n",
       "      <th>Diabetes</th>\n",
       "      <th>Alcoholism</th>\n",
       "      <th>Handcap</th>\n",
       "      <th>SMS_received</th>\n",
       "      <th>No-show</th>\n",
       "    </tr>\n",
       "  </thead>\n",
       "  <tbody>\n",
       "    <tr>\n",
       "      <th>0</th>\n",
       "      <td>2.987250e+13</td>\n",
       "      <td>5642903</td>\n",
       "      <td>F</td>\n",
       "      <td>2016-04-29T18:38:08Z</td>\n",
       "      <td>2016-04-29T00:00:00Z</td>\n",
       "      <td>62</td>\n",
       "      <td>JARDIM DA PENHA</td>\n",
       "      <td>0</td>\n",
       "      <td>1</td>\n",
       "      <td>0</td>\n",
       "      <td>0</td>\n",
       "      <td>0</td>\n",
       "      <td>0</td>\n",
       "      <td>No</td>\n",
       "    </tr>\n",
       "    <tr>\n",
       "      <th>1</th>\n",
       "      <td>5.589978e+14</td>\n",
       "      <td>5642503</td>\n",
       "      <td>M</td>\n",
       "      <td>2016-04-29T16:08:27Z</td>\n",
       "      <td>2016-04-29T00:00:00Z</td>\n",
       "      <td>56</td>\n",
       "      <td>JARDIM DA PENHA</td>\n",
       "      <td>0</td>\n",
       "      <td>0</td>\n",
       "      <td>0</td>\n",
       "      <td>0</td>\n",
       "      <td>0</td>\n",
       "      <td>0</td>\n",
       "      <td>No</td>\n",
       "    </tr>\n",
       "    <tr>\n",
       "      <th>2</th>\n",
       "      <td>4.262962e+12</td>\n",
       "      <td>5642549</td>\n",
       "      <td>F</td>\n",
       "      <td>2016-04-29T16:19:04Z</td>\n",
       "      <td>2016-04-29T00:00:00Z</td>\n",
       "      <td>62</td>\n",
       "      <td>MATA DA PRAIA</td>\n",
       "      <td>0</td>\n",
       "      <td>0</td>\n",
       "      <td>0</td>\n",
       "      <td>0</td>\n",
       "      <td>0</td>\n",
       "      <td>0</td>\n",
       "      <td>No</td>\n",
       "    </tr>\n",
       "  </tbody>\n",
       "</table>\n",
       "</div>"
      ],
      "text/plain": [
       "      PatientId  AppointmentID Gender          ScheduledDay  \\\n",
       "0  2.987250e+13        5642903      F  2016-04-29T18:38:08Z   \n",
       "1  5.589978e+14        5642503      M  2016-04-29T16:08:27Z   \n",
       "2  4.262962e+12        5642549      F  2016-04-29T16:19:04Z   \n",
       "\n",
       "         AppointmentDay  Age    Neighbourhood  Scholarship  Hipertension  \\\n",
       "0  2016-04-29T00:00:00Z   62  JARDIM DA PENHA            0             1   \n",
       "1  2016-04-29T00:00:00Z   56  JARDIM DA PENHA            0             0   \n",
       "2  2016-04-29T00:00:00Z   62    MATA DA PRAIA            0             0   \n",
       "\n",
       "   Diabetes  Alcoholism  Handcap  SMS_received No-show  \n",
       "0         0           0        0             0      No  \n",
       "1         0           0        0             0      No  \n",
       "2         0           0        0             0      No  "
      ]
     },
     "execution_count": 67,
     "metadata": {},
     "output_type": "execute_result"
    }
   ],
   "source": [
    "import pandas as pd\n",
    "ns_df = pd.read_csv('noshowappointments-kagglev2-may-2016.csv')\n",
    "ns_df.head(3)"
   ]
  },
  {
   "cell_type": "markdown",
   "metadata": {},
   "source": [
    "<a id='wrangling'></a>\n",
    "## Data Wrangling\n",
    "\n",
    "I imported pandas using the `import pandas as pd` code. Then I created the dataframe __ns_df__ (where ns means no show), using the `read_csv` function. Using the `ns_df.head()` function, I viewed the first 5 entries.\n",
    "\n",
    "\n",
    "### General Properties\n",
    "\n",
    "Using the `ns_df.head()` function, I viewed the first 5 entries."
   ]
  },
  {
   "cell_type": "code",
   "execution_count": 68,
   "metadata": {
    "scrolled": true
   },
   "outputs": [
    {
     "data": {
      "text/html": [
       "<div>\n",
       "<style scoped>\n",
       "    .dataframe tbody tr th:only-of-type {\n",
       "        vertical-align: middle;\n",
       "    }\n",
       "\n",
       "    .dataframe tbody tr th {\n",
       "        vertical-align: top;\n",
       "    }\n",
       "\n",
       "    .dataframe thead th {\n",
       "        text-align: right;\n",
       "    }\n",
       "</style>\n",
       "<table border=\"1\" class=\"dataframe\">\n",
       "  <thead>\n",
       "    <tr style=\"text-align: right;\">\n",
       "      <th></th>\n",
       "      <th>PatientId</th>\n",
       "      <th>AppointmentID</th>\n",
       "      <th>Gender</th>\n",
       "      <th>ScheduledDay</th>\n",
       "      <th>AppointmentDay</th>\n",
       "      <th>Age</th>\n",
       "      <th>Neighbourhood</th>\n",
       "      <th>Scholarship</th>\n",
       "      <th>Hipertension</th>\n",
       "      <th>Diabetes</th>\n",
       "      <th>Alcoholism</th>\n",
       "      <th>Handcap</th>\n",
       "      <th>SMS_received</th>\n",
       "      <th>No-show</th>\n",
       "    </tr>\n",
       "  </thead>\n",
       "  <tbody>\n",
       "    <tr>\n",
       "      <th>0</th>\n",
       "      <td>2.987250e+13</td>\n",
       "      <td>5642903</td>\n",
       "      <td>F</td>\n",
       "      <td>2016-04-29T18:38:08Z</td>\n",
       "      <td>2016-04-29T00:00:00Z</td>\n",
       "      <td>62</td>\n",
       "      <td>JARDIM DA PENHA</td>\n",
       "      <td>0</td>\n",
       "      <td>1</td>\n",
       "      <td>0</td>\n",
       "      <td>0</td>\n",
       "      <td>0</td>\n",
       "      <td>0</td>\n",
       "      <td>No</td>\n",
       "    </tr>\n",
       "    <tr>\n",
       "      <th>1</th>\n",
       "      <td>5.589978e+14</td>\n",
       "      <td>5642503</td>\n",
       "      <td>M</td>\n",
       "      <td>2016-04-29T16:08:27Z</td>\n",
       "      <td>2016-04-29T00:00:00Z</td>\n",
       "      <td>56</td>\n",
       "      <td>JARDIM DA PENHA</td>\n",
       "      <td>0</td>\n",
       "      <td>0</td>\n",
       "      <td>0</td>\n",
       "      <td>0</td>\n",
       "      <td>0</td>\n",
       "      <td>0</td>\n",
       "      <td>No</td>\n",
       "    </tr>\n",
       "    <tr>\n",
       "      <th>2</th>\n",
       "      <td>4.262962e+12</td>\n",
       "      <td>5642549</td>\n",
       "      <td>F</td>\n",
       "      <td>2016-04-29T16:19:04Z</td>\n",
       "      <td>2016-04-29T00:00:00Z</td>\n",
       "      <td>62</td>\n",
       "      <td>MATA DA PRAIA</td>\n",
       "      <td>0</td>\n",
       "      <td>0</td>\n",
       "      <td>0</td>\n",
       "      <td>0</td>\n",
       "      <td>0</td>\n",
       "      <td>0</td>\n",
       "      <td>No</td>\n",
       "    </tr>\n",
       "    <tr>\n",
       "      <th>3</th>\n",
       "      <td>8.679512e+11</td>\n",
       "      <td>5642828</td>\n",
       "      <td>F</td>\n",
       "      <td>2016-04-29T17:29:31Z</td>\n",
       "      <td>2016-04-29T00:00:00Z</td>\n",
       "      <td>8</td>\n",
       "      <td>PONTAL DE CAMBURI</td>\n",
       "      <td>0</td>\n",
       "      <td>0</td>\n",
       "      <td>0</td>\n",
       "      <td>0</td>\n",
       "      <td>0</td>\n",
       "      <td>0</td>\n",
       "      <td>No</td>\n",
       "    </tr>\n",
       "    <tr>\n",
       "      <th>4</th>\n",
       "      <td>8.841186e+12</td>\n",
       "      <td>5642494</td>\n",
       "      <td>F</td>\n",
       "      <td>2016-04-29T16:07:23Z</td>\n",
       "      <td>2016-04-29T00:00:00Z</td>\n",
       "      <td>56</td>\n",
       "      <td>JARDIM DA PENHA</td>\n",
       "      <td>0</td>\n",
       "      <td>1</td>\n",
       "      <td>1</td>\n",
       "      <td>0</td>\n",
       "      <td>0</td>\n",
       "      <td>0</td>\n",
       "      <td>No</td>\n",
       "    </tr>\n",
       "  </tbody>\n",
       "</table>\n",
       "</div>"
      ],
      "text/plain": [
       "      PatientId  AppointmentID Gender          ScheduledDay  \\\n",
       "0  2.987250e+13        5642903      F  2016-04-29T18:38:08Z   \n",
       "1  5.589978e+14        5642503      M  2016-04-29T16:08:27Z   \n",
       "2  4.262962e+12        5642549      F  2016-04-29T16:19:04Z   \n",
       "3  8.679512e+11        5642828      F  2016-04-29T17:29:31Z   \n",
       "4  8.841186e+12        5642494      F  2016-04-29T16:07:23Z   \n",
       "\n",
       "         AppointmentDay  Age      Neighbourhood  Scholarship  Hipertension  \\\n",
       "0  2016-04-29T00:00:00Z   62    JARDIM DA PENHA            0             1   \n",
       "1  2016-04-29T00:00:00Z   56    JARDIM DA PENHA            0             0   \n",
       "2  2016-04-29T00:00:00Z   62      MATA DA PRAIA            0             0   \n",
       "3  2016-04-29T00:00:00Z    8  PONTAL DE CAMBURI            0             0   \n",
       "4  2016-04-29T00:00:00Z   56    JARDIM DA PENHA            0             1   \n",
       "\n",
       "   Diabetes  Alcoholism  Handcap  SMS_received No-show  \n",
       "0         0           0        0             0      No  \n",
       "1         0           0        0             0      No  \n",
       "2         0           0        0             0      No  \n",
       "3         0           0        0             0      No  \n",
       "4         1           0        0             0      No  "
      ]
     },
     "execution_count": 68,
     "metadata": {},
     "output_type": "execute_result"
    }
   ],
   "source": [
    "# Load your data and print out a few lines. Perform operations to inspect data\n",
    "ns_df.head()"
   ]
  },
  {
   "cell_type": "markdown",
   "metadata": {},
   "source": [
    "### Assessment \n",
    "After successfully importing pandas and reading the data, it was time to _assess_ the data. \n",
    "\n",
    "Assessment involves checking for null values, missing values, wrong datatypes, duplicated values, misspellings, and wrong labelling. These bits of information, except duplicates, were obtained using pandas'  `ns_df.info()` function."
   ]
  },
  {
   "cell_type": "code",
   "execution_count": 69,
   "metadata": {},
   "outputs": [
    {
     "name": "stdout",
     "output_type": "stream",
     "text": [
      "<class 'pandas.core.frame.DataFrame'>\n",
      "RangeIndex: 110527 entries, 0 to 110526\n",
      "Data columns (total 14 columns):\n",
      " #   Column          Non-Null Count   Dtype  \n",
      "---  ------          --------------   -----  \n",
      " 0   PatientId       110527 non-null  float64\n",
      " 1   AppointmentID   110527 non-null  int64  \n",
      " 2   Gender          110527 non-null  object \n",
      " 3   ScheduledDay    110527 non-null  object \n",
      " 4   AppointmentDay  110527 non-null  object \n",
      " 5   Age             110527 non-null  int64  \n",
      " 6   Neighbourhood   110527 non-null  object \n",
      " 7   Scholarship     110527 non-null  int64  \n",
      " 8   Hipertension    110527 non-null  int64  \n",
      " 9   Diabetes        110527 non-null  int64  \n",
      " 10  Alcoholism      110527 non-null  int64  \n",
      " 11  Handcap         110527 non-null  int64  \n",
      " 12  SMS_received    110527 non-null  int64  \n",
      " 13  No-show         110527 non-null  object \n",
      "dtypes: float64(1), int64(8), object(5)\n",
      "memory usage: 11.8+ MB\n"
     ]
    }
   ],
   "source": [
    "ns_df.info()"
   ]
  },
  {
   "cell_type": "markdown",
   "metadata": {},
   "source": [
    "A glance through the given result above showed the following inconsistencies:\n",
    "    \n",
    "   1. ScheduledDay and AppointmentDay were in the `object` (string) datatype, instead of its proper `datetime` type.\n",
    "   2. ScheduledDay and AppointmentDay are going to require renaming to 'Schedule Date' and 'Appointment Date' respectively.\n",
    "   3. The word Hypertension was wrongly spelled as 'Hipertension'.\n",
    "   4. Handicap was misspelled 'Handcap'.\n",
    "   5. Appointment ID was going to be dropped, as I felt it irrelevant to my analysis.\n",
    "   6. SMS_received was going to need its values changed from 0 and 1 to 'not received' and 'received' respectively, for clarity.\n",
    "   7. All the labels are going to require renaming to lower cases, with an underscore(_) replacing the hyphen (-) and space as required.\n",
    "    \n",
    "   Interestingly, there are no null values.\n",
    "   \n",
    "   Next, I checked for duplicates. There were no duplicated values."
   ]
  },
  {
   "cell_type": "code",
   "execution_count": 70,
   "metadata": {},
   "outputs": [
    {
     "data": {
      "text/plain": [
       "0"
      ]
     },
     "execution_count": 70,
     "metadata": {},
     "output_type": "execute_result"
    }
   ],
   "source": [
    "sum(ns_df.duplicated())"
   ]
  },
  {
   "cell_type": "markdown",
   "metadata": {},
   "source": [
    "\n",
    "### Data Cleaning\n",
    "I went about cleaning the data as enumerated in the list above:\n",
    "\n",
    "I first renamed the Hipertension, Handcap, ScheduledDay and AppointmentDay column labels, using pandas' `ns_df.rename`."
   ]
  },
  {
   "cell_type": "code",
   "execution_count": 71,
   "metadata": {},
   "outputs": [],
   "source": [
    "ns_df.rename(columns={'Hipertension':'Hypertension', 'Handcap' : 'Handicap',\n",
    "             'ScheduledDay' : 'Schedule Date', 'AppointmentDay' : 'Appointment Date'}, inplace=True)"
   ]
  },
  {
   "cell_type": "markdown",
   "metadata": {},
   "source": [
    "Then I set about changing the cases of the labels to lower cases, with an underscore replacing the space as required. This was done using the `lambda` function. The results of this rename were viewed using `ns_df.info()`."
   ]
  },
  {
   "cell_type": "code",
   "execution_count": 2,
   "metadata": {},
   "outputs": [
    {
     "ename": "NameError",
     "evalue": "name 'ns_df' is not defined",
     "output_type": "error",
     "traceback": [
      "\u001b[1;31m---------------------------------------------------------------------------\u001b[0m",
      "\u001b[1;31mNameError\u001b[0m                                 Traceback (most recent call last)",
      "\u001b[1;32m~\\AppData\\Local\\Temp/ipykernel_14204/4126705132.py\u001b[0m in \u001b[0;36m<module>\u001b[1;34m\u001b[0m\n\u001b[1;32m----> 1\u001b[1;33m \u001b[0mns_df\u001b[0m\u001b[1;33m.\u001b[0m\u001b[0mrename\u001b[0m\u001b[1;33m(\u001b[0m\u001b[0mcolumns\u001b[0m\u001b[1;33m=\u001b[0m\u001b[1;32mlambda\u001b[0m \u001b[0mx\u001b[0m\u001b[1;33m:\u001b[0m \u001b[0mx\u001b[0m\u001b[1;33m.\u001b[0m\u001b[0mstrip\u001b[0m\u001b[1;33m(\u001b[0m\u001b[1;33m)\u001b[0m\u001b[1;33m.\u001b[0m\u001b[0mlower\u001b[0m\u001b[1;33m(\u001b[0m\u001b[1;33m)\u001b[0m\u001b[1;33m.\u001b[0m\u001b[0mreplace\u001b[0m\u001b[1;33m(\u001b[0m\u001b[1;34m\" \"\u001b[0m\u001b[1;33m,\u001b[0m \u001b[1;34m\"_\"\u001b[0m\u001b[1;33m)\u001b[0m\u001b[1;33m,\u001b[0m \u001b[0minplace\u001b[0m\u001b[1;33m=\u001b[0m\u001b[1;32mTrue\u001b[0m\u001b[1;33m)\u001b[0m\u001b[1;33m\u001b[0m\u001b[1;33m\u001b[0m\u001b[0m\n\u001b[0m",
      "\u001b[1;31mNameError\u001b[0m: name 'ns_df' is not defined"
     ]
    }
   ],
   "source": [
    "ns_df.rename(columns=lambda x: x.strip().lower().replace(\" \", \"_\"), inplace=True)"
   ]
  },
  {
   "cell_type": "code",
   "execution_count": 73,
   "metadata": {},
   "outputs": [
    {
     "name": "stdout",
     "output_type": "stream",
     "text": [
      "<class 'pandas.core.frame.DataFrame'>\n",
      "RangeIndex: 110527 entries, 0 to 110526\n",
      "Data columns (total 14 columns):\n",
      " #   Column            Non-Null Count   Dtype  \n",
      "---  ------            --------------   -----  \n",
      " 0   patientid         110527 non-null  float64\n",
      " 1   appointmentid     110527 non-null  int64  \n",
      " 2   gender            110527 non-null  object \n",
      " 3   schedule_date     110527 non-null  object \n",
      " 4   appointment_date  110527 non-null  object \n",
      " 5   age               110527 non-null  int64  \n",
      " 6   neighbourhood     110527 non-null  object \n",
      " 7   scholarship       110527 non-null  int64  \n",
      " 8   hypertension      110527 non-null  int64  \n",
      " 9   diabetes          110527 non-null  int64  \n",
      " 10  alcoholism        110527 non-null  int64  \n",
      " 11  handicap          110527 non-null  int64  \n",
      " 12  sms_received      110527 non-null  int64  \n",
      " 13  no-show           110527 non-null  object \n",
      "dtypes: float64(1), int64(8), object(5)\n",
      "memory usage: 11.8+ MB\n"
     ]
    }
   ],
   "source": [
    "ns_df.info()"
   ]
  },
  {
   "cell_type": "code",
   "execution_count": 74,
   "metadata": {},
   "outputs": [
    {
     "data": {
      "text/html": [
       "<div>\n",
       "<style scoped>\n",
       "    .dataframe tbody tr th:only-of-type {\n",
       "        vertical-align: middle;\n",
       "    }\n",
       "\n",
       "    .dataframe tbody tr th {\n",
       "        vertical-align: top;\n",
       "    }\n",
       "\n",
       "    .dataframe thead th {\n",
       "        text-align: right;\n",
       "    }\n",
       "</style>\n",
       "<table border=\"1\" class=\"dataframe\">\n",
       "  <thead>\n",
       "    <tr style=\"text-align: right;\">\n",
       "      <th></th>\n",
       "      <th>patientid</th>\n",
       "      <th>appointmentid</th>\n",
       "      <th>age</th>\n",
       "      <th>scholarship</th>\n",
       "      <th>hypertension</th>\n",
       "      <th>diabetes</th>\n",
       "      <th>alcoholism</th>\n",
       "      <th>handicap</th>\n",
       "      <th>sms_received</th>\n",
       "    </tr>\n",
       "  </thead>\n",
       "  <tbody>\n",
       "    <tr>\n",
       "      <th>count</th>\n",
       "      <td>1.105270e+05</td>\n",
       "      <td>1.105270e+05</td>\n",
       "      <td>110527.000000</td>\n",
       "      <td>110527.000000</td>\n",
       "      <td>110527.000000</td>\n",
       "      <td>110527.000000</td>\n",
       "      <td>110527.000000</td>\n",
       "      <td>110527.000000</td>\n",
       "      <td>110527.000000</td>\n",
       "    </tr>\n",
       "    <tr>\n",
       "      <th>mean</th>\n",
       "      <td>1.474963e+14</td>\n",
       "      <td>5.675305e+06</td>\n",
       "      <td>37.088874</td>\n",
       "      <td>0.098266</td>\n",
       "      <td>0.197246</td>\n",
       "      <td>0.071865</td>\n",
       "      <td>0.030400</td>\n",
       "      <td>0.022248</td>\n",
       "      <td>0.321026</td>\n",
       "    </tr>\n",
       "    <tr>\n",
       "      <th>std</th>\n",
       "      <td>2.560949e+14</td>\n",
       "      <td>7.129575e+04</td>\n",
       "      <td>23.110205</td>\n",
       "      <td>0.297675</td>\n",
       "      <td>0.397921</td>\n",
       "      <td>0.258265</td>\n",
       "      <td>0.171686</td>\n",
       "      <td>0.161543</td>\n",
       "      <td>0.466873</td>\n",
       "    </tr>\n",
       "    <tr>\n",
       "      <th>min</th>\n",
       "      <td>3.921784e+04</td>\n",
       "      <td>5.030230e+06</td>\n",
       "      <td>-1.000000</td>\n",
       "      <td>0.000000</td>\n",
       "      <td>0.000000</td>\n",
       "      <td>0.000000</td>\n",
       "      <td>0.000000</td>\n",
       "      <td>0.000000</td>\n",
       "      <td>0.000000</td>\n",
       "    </tr>\n",
       "    <tr>\n",
       "      <th>25%</th>\n",
       "      <td>4.172614e+12</td>\n",
       "      <td>5.640286e+06</td>\n",
       "      <td>18.000000</td>\n",
       "      <td>0.000000</td>\n",
       "      <td>0.000000</td>\n",
       "      <td>0.000000</td>\n",
       "      <td>0.000000</td>\n",
       "      <td>0.000000</td>\n",
       "      <td>0.000000</td>\n",
       "    </tr>\n",
       "    <tr>\n",
       "      <th>50%</th>\n",
       "      <td>3.173184e+13</td>\n",
       "      <td>5.680573e+06</td>\n",
       "      <td>37.000000</td>\n",
       "      <td>0.000000</td>\n",
       "      <td>0.000000</td>\n",
       "      <td>0.000000</td>\n",
       "      <td>0.000000</td>\n",
       "      <td>0.000000</td>\n",
       "      <td>0.000000</td>\n",
       "    </tr>\n",
       "    <tr>\n",
       "      <th>75%</th>\n",
       "      <td>9.439172e+13</td>\n",
       "      <td>5.725524e+06</td>\n",
       "      <td>55.000000</td>\n",
       "      <td>0.000000</td>\n",
       "      <td>0.000000</td>\n",
       "      <td>0.000000</td>\n",
       "      <td>0.000000</td>\n",
       "      <td>0.000000</td>\n",
       "      <td>1.000000</td>\n",
       "    </tr>\n",
       "    <tr>\n",
       "      <th>max</th>\n",
       "      <td>9.999816e+14</td>\n",
       "      <td>5.790484e+06</td>\n",
       "      <td>115.000000</td>\n",
       "      <td>1.000000</td>\n",
       "      <td>1.000000</td>\n",
       "      <td>1.000000</td>\n",
       "      <td>1.000000</td>\n",
       "      <td>4.000000</td>\n",
       "      <td>1.000000</td>\n",
       "    </tr>\n",
       "  </tbody>\n",
       "</table>\n",
       "</div>"
      ],
      "text/plain": [
       "          patientid  appointmentid            age    scholarship  \\\n",
       "count  1.105270e+05   1.105270e+05  110527.000000  110527.000000   \n",
       "mean   1.474963e+14   5.675305e+06      37.088874       0.098266   \n",
       "std    2.560949e+14   7.129575e+04      23.110205       0.297675   \n",
       "min    3.921784e+04   5.030230e+06      -1.000000       0.000000   \n",
       "25%    4.172614e+12   5.640286e+06      18.000000       0.000000   \n",
       "50%    3.173184e+13   5.680573e+06      37.000000       0.000000   \n",
       "75%    9.439172e+13   5.725524e+06      55.000000       0.000000   \n",
       "max    9.999816e+14   5.790484e+06     115.000000       1.000000   \n",
       "\n",
       "        hypertension       diabetes     alcoholism       handicap  \\\n",
       "count  110527.000000  110527.000000  110527.000000  110527.000000   \n",
       "mean        0.197246       0.071865       0.030400       0.022248   \n",
       "std         0.397921       0.258265       0.171686       0.161543   \n",
       "min         0.000000       0.000000       0.000000       0.000000   \n",
       "25%         0.000000       0.000000       0.000000       0.000000   \n",
       "50%         0.000000       0.000000       0.000000       0.000000   \n",
       "75%         0.000000       0.000000       0.000000       0.000000   \n",
       "max         1.000000       1.000000       1.000000       4.000000   \n",
       "\n",
       "        sms_received  \n",
       "count  110527.000000  \n",
       "mean        0.321026  \n",
       "std         0.466873  \n",
       "min         0.000000  \n",
       "25%         0.000000  \n",
       "50%         0.000000  \n",
       "75%         1.000000  \n",
       "max         1.000000  "
      ]
     },
     "execution_count": 74,
     "metadata": {},
     "output_type": "execute_result"
    }
   ],
   "source": [
    "ns_df.describe()"
   ]
  },
  {
   "cell_type": "markdown",
   "metadata": {},
   "source": [
    "Unfortunately, I saw that I didn't clear the hyphen from the 'no-show' column. I utilized the `lambda` function again."
   ]
  },
  {
   "cell_type": "code",
   "execution_count": 75,
   "metadata": {},
   "outputs": [],
   "source": [
    "ns_df.rename(columns=lambda x: x.strip().lower().replace(\"-\", \"_\"), inplace=True)"
   ]
  },
  {
   "cell_type": "markdown",
   "metadata": {},
   "source": [
    "Furthermore, I changed the datatype of ScheduleDay (now schedule_date) to `datetime` from `object` (string). The datatypes of hypertension, diabetes, alcoholism and handicap were also changed to `object` from `int`. This was because I figured the entries being integers aren't going to be too useful to me, as they represent positive (1) and negative (0).\n",
    "\n",
    "As usual, the results were viewed using `ns_df.info()`."
   ]
  },
  {
   "cell_type": "code",
   "execution_count": 76,
   "metadata": {},
   "outputs": [],
   "source": [
    "ns_df['schedule_date']=ns_df['schedule_date'].astype('datetime64[ns]')"
   ]
  },
  {
   "cell_type": "code",
   "execution_count": 77,
   "metadata": {},
   "outputs": [],
   "source": [
    "ns_df = ns_df.astype({\"hypertension\":\"object\",\"diabetes\":\"object\",\"alcoholism\":\"object\",\"handicap\":\"object\",\n",
    "\"sms_received\":\"object\"})"
   ]
  },
  {
   "cell_type": "markdown",
   "metadata": {},
   "source": [
    "I noticed that I'd forgotten to change the datatype of 'appointment_date' to its proper `datetime` format. So I fixed that right away."
   ]
  },
  {
   "cell_type": "code",
   "execution_count": 78,
   "metadata": {},
   "outputs": [
    {
     "name": "stdout",
     "output_type": "stream",
     "text": [
      "<class 'pandas.core.frame.DataFrame'>\n",
      "RangeIndex: 110527 entries, 0 to 110526\n",
      "Data columns (total 14 columns):\n",
      " #   Column            Non-Null Count   Dtype         \n",
      "---  ------            --------------   -----         \n",
      " 0   patientid         110527 non-null  float64       \n",
      " 1   appointmentid     110527 non-null  int64         \n",
      " 2   gender            110527 non-null  object        \n",
      " 3   schedule_date     110527 non-null  datetime64[ns]\n",
      " 4   appointment_date  110527 non-null  datetime64[ns]\n",
      " 5   age               110527 non-null  int64         \n",
      " 6   neighbourhood     110527 non-null  object        \n",
      " 7   scholarship       110527 non-null  int64         \n",
      " 8   hypertension      110527 non-null  object        \n",
      " 9   diabetes          110527 non-null  object        \n",
      " 10  alcoholism        110527 non-null  object        \n",
      " 11  handicap          110527 non-null  object        \n",
      " 12  sms_received      110527 non-null  object        \n",
      " 13  no_show           110527 non-null  object        \n",
      "dtypes: datetime64[ns](2), float64(1), int64(3), object(8)\n",
      "memory usage: 11.8+ MB\n"
     ]
    }
   ],
   "source": [
    "ns_df['appointment_date']=ns_df['appointment_date'].astype('datetime64[ns]')\n",
    "ns_df.info()"
   ]
  },
  {
   "cell_type": "markdown",
   "metadata": {},
   "source": [
    "In my questions listed above, I asked 2 questions using patients' age groups. However, there is no column with that. So I had to create mine using pandas' `cut` function. \n",
    "\n",
    "First, I defined the age groups using the information obtained [here](https://bmcneurol.biomedcentral.com/articles/10.1186/s12883-020-01888-w).\n",
    "\n",
    "   * Paediatric (0–14)\n",
    "   * Youth (15–47) \n",
    "   * Middle Age (48-63)\n",
    "   * Elderly (≥64)\n",
    "\n",
    "At this point, I used `numpy` and the steps from GeeksForGeeks' blog to choose a random number from the sets I already defined and cut the dataframe to make my new column. The lowest age given was 0, while the highest was 115. However, I decided to make my upper limit 116 so as to comfortably accommodate 115.\n",
    "\n",
    "I defined the bin edges using the lower limits of the defined age groups (0, 15, 48, 64, 116). Also, there are 110,527 non-null entries."
   ]
  },
  {
   "cell_type": "code",
   "execution_count": 79,
   "metadata": {},
   "outputs": [
    {
     "data": {
      "text/plain": [
       "array([ 61,  49,  91, ..., 105,  47,  79])"
      ]
     },
     "execution_count": 79,
     "metadata": {},
     "output_type": "execute_result"
    }
   ],
   "source": [
    "np.random.randint(0, 116, 110527)"
   ]
  },
  {
   "cell_type": "code",
   "execution_count": 80,
   "metadata": {},
   "outputs": [],
   "source": [
    "bin_edges = [0, 15, 48, 64, 116]\n",
    "bin_names = ['paed', 'youth', 'mid_age', 'elderly']\n",
    "ns_df['age_group']= pd.cut(ns_df['age'], bin_edges, labels=bin_names)"
   ]
  },
  {
   "cell_type": "markdown",
   "metadata": {},
   "source": [
    "I checked that my work was done right. "
   ]
  },
  {
   "cell_type": "code",
   "execution_count": 81,
   "metadata": {},
   "outputs": [
    {
     "data": {
      "text/html": [
       "<div>\n",
       "<style scoped>\n",
       "    .dataframe tbody tr th:only-of-type {\n",
       "        vertical-align: middle;\n",
       "    }\n",
       "\n",
       "    .dataframe tbody tr th {\n",
       "        vertical-align: top;\n",
       "    }\n",
       "\n",
       "    .dataframe thead th {\n",
       "        text-align: right;\n",
       "    }\n",
       "</style>\n",
       "<table border=\"1\" class=\"dataframe\">\n",
       "  <thead>\n",
       "    <tr style=\"text-align: right;\">\n",
       "      <th></th>\n",
       "      <th>patientid</th>\n",
       "      <th>appointmentid</th>\n",
       "      <th>gender</th>\n",
       "      <th>schedule_date</th>\n",
       "      <th>appointment_date</th>\n",
       "      <th>age</th>\n",
       "      <th>neighbourhood</th>\n",
       "      <th>scholarship</th>\n",
       "      <th>hypertension</th>\n",
       "      <th>diabetes</th>\n",
       "      <th>alcoholism</th>\n",
       "      <th>handicap</th>\n",
       "      <th>sms_received</th>\n",
       "      <th>no_show</th>\n",
       "      <th>age_group</th>\n",
       "    </tr>\n",
       "  </thead>\n",
       "  <tbody>\n",
       "    <tr>\n",
       "      <th>0</th>\n",
       "      <td>2.987250e+13</td>\n",
       "      <td>5642903</td>\n",
       "      <td>F</td>\n",
       "      <td>2016-04-29 18:38:08</td>\n",
       "      <td>2016-04-29</td>\n",
       "      <td>62</td>\n",
       "      <td>JARDIM DA PENHA</td>\n",
       "      <td>0</td>\n",
       "      <td>1</td>\n",
       "      <td>0</td>\n",
       "      <td>0</td>\n",
       "      <td>0</td>\n",
       "      <td>0</td>\n",
       "      <td>No</td>\n",
       "      <td>mid_age</td>\n",
       "    </tr>\n",
       "    <tr>\n",
       "      <th>1</th>\n",
       "      <td>5.589978e+14</td>\n",
       "      <td>5642503</td>\n",
       "      <td>M</td>\n",
       "      <td>2016-04-29 16:08:27</td>\n",
       "      <td>2016-04-29</td>\n",
       "      <td>56</td>\n",
       "      <td>JARDIM DA PENHA</td>\n",
       "      <td>0</td>\n",
       "      <td>0</td>\n",
       "      <td>0</td>\n",
       "      <td>0</td>\n",
       "      <td>0</td>\n",
       "      <td>0</td>\n",
       "      <td>No</td>\n",
       "      <td>mid_age</td>\n",
       "    </tr>\n",
       "    <tr>\n",
       "      <th>2</th>\n",
       "      <td>4.262962e+12</td>\n",
       "      <td>5642549</td>\n",
       "      <td>F</td>\n",
       "      <td>2016-04-29 16:19:04</td>\n",
       "      <td>2016-04-29</td>\n",
       "      <td>62</td>\n",
       "      <td>MATA DA PRAIA</td>\n",
       "      <td>0</td>\n",
       "      <td>0</td>\n",
       "      <td>0</td>\n",
       "      <td>0</td>\n",
       "      <td>0</td>\n",
       "      <td>0</td>\n",
       "      <td>No</td>\n",
       "      <td>mid_age</td>\n",
       "    </tr>\n",
       "    <tr>\n",
       "      <th>3</th>\n",
       "      <td>8.679512e+11</td>\n",
       "      <td>5642828</td>\n",
       "      <td>F</td>\n",
       "      <td>2016-04-29 17:29:31</td>\n",
       "      <td>2016-04-29</td>\n",
       "      <td>8</td>\n",
       "      <td>PONTAL DE CAMBURI</td>\n",
       "      <td>0</td>\n",
       "      <td>0</td>\n",
       "      <td>0</td>\n",
       "      <td>0</td>\n",
       "      <td>0</td>\n",
       "      <td>0</td>\n",
       "      <td>No</td>\n",
       "      <td>paed</td>\n",
       "    </tr>\n",
       "    <tr>\n",
       "      <th>4</th>\n",
       "      <td>8.841186e+12</td>\n",
       "      <td>5642494</td>\n",
       "      <td>F</td>\n",
       "      <td>2016-04-29 16:07:23</td>\n",
       "      <td>2016-04-29</td>\n",
       "      <td>56</td>\n",
       "      <td>JARDIM DA PENHA</td>\n",
       "      <td>0</td>\n",
       "      <td>1</td>\n",
       "      <td>1</td>\n",
       "      <td>0</td>\n",
       "      <td>0</td>\n",
       "      <td>0</td>\n",
       "      <td>No</td>\n",
       "      <td>mid_age</td>\n",
       "    </tr>\n",
       "  </tbody>\n",
       "</table>\n",
       "</div>"
      ],
      "text/plain": [
       "      patientid  appointmentid gender       schedule_date appointment_date  \\\n",
       "0  2.987250e+13        5642903      F 2016-04-29 18:38:08       2016-04-29   \n",
       "1  5.589978e+14        5642503      M 2016-04-29 16:08:27       2016-04-29   \n",
       "2  4.262962e+12        5642549      F 2016-04-29 16:19:04       2016-04-29   \n",
       "3  8.679512e+11        5642828      F 2016-04-29 17:29:31       2016-04-29   \n",
       "4  8.841186e+12        5642494      F 2016-04-29 16:07:23       2016-04-29   \n",
       "\n",
       "   age      neighbourhood  scholarship hypertension diabetes alcoholism  \\\n",
       "0   62    JARDIM DA PENHA            0            1        0          0   \n",
       "1   56    JARDIM DA PENHA            0            0        0          0   \n",
       "2   62      MATA DA PRAIA            0            0        0          0   \n",
       "3    8  PONTAL DE CAMBURI            0            0        0          0   \n",
       "4   56    JARDIM DA PENHA            0            1        1          0   \n",
       "\n",
       "  handicap sms_received no_show age_group  \n",
       "0        0            0      No   mid_age  \n",
       "1        0            0      No   mid_age  \n",
       "2        0            0      No   mid_age  \n",
       "3        0            0      No      paed  \n",
       "4        0            0      No   mid_age  "
      ]
     },
     "execution_count": 81,
     "metadata": {},
     "output_type": "execute_result"
    }
   ],
   "source": [
    "ns_df.head()"
   ]
  },
  {
   "cell_type": "markdown",
   "metadata": {},
   "source": [
    "But, when I used `ns_df.info()`..."
   ]
  },
  {
   "cell_type": "code",
   "execution_count": 82,
   "metadata": {},
   "outputs": [
    {
     "name": "stdout",
     "output_type": "stream",
     "text": [
      "<class 'pandas.core.frame.DataFrame'>\n",
      "RangeIndex: 110527 entries, 0 to 110526\n",
      "Data columns (total 15 columns):\n",
      " #   Column            Non-Null Count   Dtype         \n",
      "---  ------            --------------   -----         \n",
      " 0   patientid         110527 non-null  float64       \n",
      " 1   appointmentid     110527 non-null  int64         \n",
      " 2   gender            110527 non-null  object        \n",
      " 3   schedule_date     110527 non-null  datetime64[ns]\n",
      " 4   appointment_date  110527 non-null  datetime64[ns]\n",
      " 5   age               110527 non-null  int64         \n",
      " 6   neighbourhood     110527 non-null  object        \n",
      " 7   scholarship       110527 non-null  int64         \n",
      " 8   hypertension      110527 non-null  object        \n",
      " 9   diabetes          110527 non-null  object        \n",
      " 10  alcoholism        110527 non-null  object        \n",
      " 11  handicap          110527 non-null  object        \n",
      " 12  sms_received      110527 non-null  object        \n",
      " 13  no_show           110527 non-null  object        \n",
      " 14  age_group         106987 non-null  category      \n",
      "dtypes: category(1), datetime64[ns](2), float64(1), int64(3), object(8)\n",
      "memory usage: 11.9+ MB\n"
     ]
    }
   ],
   "source": [
    "ns_df.info()"
   ]
  },
  {
   "cell_type": "markdown",
   "metadata": {},
   "source": [
    "There are 106,987 non-null values, instead of the expected 110,527. On closer inspection (which I did not include here), the null values were seen only when the age was 0. I opened the csv file in Excel and used the COUNTIF function to determine how many of such values were there. \n",
    "\n",
    "Coincidentally, there were 3539 values, which was the exact number I needed. So, I simply filled in the null values (`fillna`) with 'paed', which is where the age 0 is supposed to fall."
   ]
  },
  {
   "cell_type": "code",
   "execution_count": 83,
   "metadata": {},
   "outputs": [
    {
     "name": "stdout",
     "output_type": "stream",
     "text": [
      "<class 'pandas.core.frame.DataFrame'>\n",
      "RangeIndex: 110527 entries, 0 to 110526\n",
      "Data columns (total 15 columns):\n",
      " #   Column            Non-Null Count   Dtype         \n",
      "---  ------            --------------   -----         \n",
      " 0   patientid         110527 non-null  float64       \n",
      " 1   appointmentid     110527 non-null  int64         \n",
      " 2   gender            110527 non-null  object        \n",
      " 3   schedule_date     110527 non-null  datetime64[ns]\n",
      " 4   appointment_date  110527 non-null  datetime64[ns]\n",
      " 5   age               110527 non-null  int64         \n",
      " 6   neighbourhood     110527 non-null  object        \n",
      " 7   scholarship       110527 non-null  int64         \n",
      " 8   hypertension      110527 non-null  object        \n",
      " 9   diabetes          110527 non-null  object        \n",
      " 10  alcoholism        110527 non-null  object        \n",
      " 11  handicap          110527 non-null  object        \n",
      " 12  sms_received      110527 non-null  object        \n",
      " 13  no_show           110527 non-null  object        \n",
      " 14  age_group         110527 non-null  category      \n",
      "dtypes: category(1), datetime64[ns](2), float64(1), int64(3), object(8)\n",
      "memory usage: 11.9+ MB\n"
     ]
    }
   ],
   "source": [
    "ns_df[\"age_group\"].fillna(\"paed\", inplace = True)\n",
    "ns_df.info()"
   ]
  },
  {
   "cell_type": "markdown",
   "metadata": {},
   "source": [
    "I noticed the 'schedule_date' column contained both the date and time of the appointment, but I just need the date. So I decided to extract the date from the entries. So I used [this](https://www.codegrepper.com/code-examples/python/extract+date+from+datetime+pandas) example from Grepper as a guide to perform the action."
   ]
  },
  {
   "cell_type": "code",
   "execution_count": 84,
   "metadata": {},
   "outputs": [
    {
     "data": {
      "text/html": [
       "<div>\n",
       "<style scoped>\n",
       "    .dataframe tbody tr th:only-of-type {\n",
       "        vertical-align: middle;\n",
       "    }\n",
       "\n",
       "    .dataframe tbody tr th {\n",
       "        vertical-align: top;\n",
       "    }\n",
       "\n",
       "    .dataframe thead th {\n",
       "        text-align: right;\n",
       "    }\n",
       "</style>\n",
       "<table border=\"1\" class=\"dataframe\">\n",
       "  <thead>\n",
       "    <tr style=\"text-align: right;\">\n",
       "      <th></th>\n",
       "      <th>patientid</th>\n",
       "      <th>appointmentid</th>\n",
       "      <th>gender</th>\n",
       "      <th>schedule_date</th>\n",
       "      <th>appointment_date</th>\n",
       "      <th>age</th>\n",
       "      <th>neighbourhood</th>\n",
       "      <th>scholarship</th>\n",
       "      <th>hypertension</th>\n",
       "      <th>diabetes</th>\n",
       "      <th>alcoholism</th>\n",
       "      <th>handicap</th>\n",
       "      <th>sms_received</th>\n",
       "      <th>no_show</th>\n",
       "      <th>age_group</th>\n",
       "    </tr>\n",
       "  </thead>\n",
       "  <tbody>\n",
       "    <tr>\n",
       "      <th>0</th>\n",
       "      <td>2.987250e+13</td>\n",
       "      <td>5642903</td>\n",
       "      <td>F</td>\n",
       "      <td>2016-04-29</td>\n",
       "      <td>2016-04-29</td>\n",
       "      <td>62</td>\n",
       "      <td>JARDIM DA PENHA</td>\n",
       "      <td>0</td>\n",
       "      <td>1</td>\n",
       "      <td>0</td>\n",
       "      <td>0</td>\n",
       "      <td>0</td>\n",
       "      <td>0</td>\n",
       "      <td>No</td>\n",
       "      <td>mid_age</td>\n",
       "    </tr>\n",
       "    <tr>\n",
       "      <th>1</th>\n",
       "      <td>5.589978e+14</td>\n",
       "      <td>5642503</td>\n",
       "      <td>M</td>\n",
       "      <td>2016-04-29</td>\n",
       "      <td>2016-04-29</td>\n",
       "      <td>56</td>\n",
       "      <td>JARDIM DA PENHA</td>\n",
       "      <td>0</td>\n",
       "      <td>0</td>\n",
       "      <td>0</td>\n",
       "      <td>0</td>\n",
       "      <td>0</td>\n",
       "      <td>0</td>\n",
       "      <td>No</td>\n",
       "      <td>mid_age</td>\n",
       "    </tr>\n",
       "    <tr>\n",
       "      <th>2</th>\n",
       "      <td>4.262962e+12</td>\n",
       "      <td>5642549</td>\n",
       "      <td>F</td>\n",
       "      <td>2016-04-29</td>\n",
       "      <td>2016-04-29</td>\n",
       "      <td>62</td>\n",
       "      <td>MATA DA PRAIA</td>\n",
       "      <td>0</td>\n",
       "      <td>0</td>\n",
       "      <td>0</td>\n",
       "      <td>0</td>\n",
       "      <td>0</td>\n",
       "      <td>0</td>\n",
       "      <td>No</td>\n",
       "      <td>mid_age</td>\n",
       "    </tr>\n",
       "    <tr>\n",
       "      <th>3</th>\n",
       "      <td>8.679512e+11</td>\n",
       "      <td>5642828</td>\n",
       "      <td>F</td>\n",
       "      <td>2016-04-29</td>\n",
       "      <td>2016-04-29</td>\n",
       "      <td>8</td>\n",
       "      <td>PONTAL DE CAMBURI</td>\n",
       "      <td>0</td>\n",
       "      <td>0</td>\n",
       "      <td>0</td>\n",
       "      <td>0</td>\n",
       "      <td>0</td>\n",
       "      <td>0</td>\n",
       "      <td>No</td>\n",
       "      <td>paed</td>\n",
       "    </tr>\n",
       "    <tr>\n",
       "      <th>4</th>\n",
       "      <td>8.841186e+12</td>\n",
       "      <td>5642494</td>\n",
       "      <td>F</td>\n",
       "      <td>2016-04-29</td>\n",
       "      <td>2016-04-29</td>\n",
       "      <td>56</td>\n",
       "      <td>JARDIM DA PENHA</td>\n",
       "      <td>0</td>\n",
       "      <td>1</td>\n",
       "      <td>1</td>\n",
       "      <td>0</td>\n",
       "      <td>0</td>\n",
       "      <td>0</td>\n",
       "      <td>No</td>\n",
       "      <td>mid_age</td>\n",
       "    </tr>\n",
       "  </tbody>\n",
       "</table>\n",
       "</div>"
      ],
      "text/plain": [
       "      patientid  appointmentid gender schedule_date appointment_date  age  \\\n",
       "0  2.987250e+13        5642903      F    2016-04-29       2016-04-29   62   \n",
       "1  5.589978e+14        5642503      M    2016-04-29       2016-04-29   56   \n",
       "2  4.262962e+12        5642549      F    2016-04-29       2016-04-29   62   \n",
       "3  8.679512e+11        5642828      F    2016-04-29       2016-04-29    8   \n",
       "4  8.841186e+12        5642494      F    2016-04-29       2016-04-29   56   \n",
       "\n",
       "       neighbourhood  scholarship hypertension diabetes alcoholism handicap  \\\n",
       "0    JARDIM DA PENHA            0            1        0          0        0   \n",
       "1    JARDIM DA PENHA            0            0        0          0        0   \n",
       "2      MATA DA PRAIA            0            0        0          0        0   \n",
       "3  PONTAL DE CAMBURI            0            0        0          0        0   \n",
       "4    JARDIM DA PENHA            0            1        1          0        0   \n",
       "\n",
       "  sms_received no_show age_group  \n",
       "0            0      No   mid_age  \n",
       "1            0      No   mid_age  \n",
       "2            0      No   mid_age  \n",
       "3            0      No      paed  \n",
       "4            0      No   mid_age  "
      ]
     },
     "execution_count": 84,
     "metadata": {},
     "output_type": "execute_result"
    }
   ],
   "source": [
    "ns_df['schedule_date']=pd.to_datetime(ns_df['schedule_date']).dt.date\n",
    "ns_df.head()"
   ]
  },
  {
   "cell_type": "markdown",
   "metadata": {},
   "source": [
    "Next, I dropped the column 'appointmentid' using pandas' `drop` statement."
   ]
  },
  {
   "cell_type": "code",
   "execution_count": 85,
   "metadata": {},
   "outputs": [
    {
     "name": "stdout",
     "output_type": "stream",
     "text": [
      "<class 'pandas.core.frame.DataFrame'>\n",
      "RangeIndex: 110527 entries, 0 to 110526\n",
      "Data columns (total 14 columns):\n",
      " #   Column            Non-Null Count   Dtype         \n",
      "---  ------            --------------   -----         \n",
      " 0   patientid         110527 non-null  float64       \n",
      " 1   gender            110527 non-null  object        \n",
      " 2   schedule_date     110527 non-null  object        \n",
      " 3   appointment_date  110527 non-null  datetime64[ns]\n",
      " 4   age               110527 non-null  int64         \n",
      " 5   neighbourhood     110527 non-null  object        \n",
      " 6   scholarship       110527 non-null  int64         \n",
      " 7   hypertension      110527 non-null  object        \n",
      " 8   diabetes          110527 non-null  object        \n",
      " 9   alcoholism        110527 non-null  object        \n",
      " 10  handicap          110527 non-null  object        \n",
      " 11  sms_received      110527 non-null  object        \n",
      " 12  no_show           110527 non-null  object        \n",
      " 13  age_group         110527 non-null  category      \n",
      "dtypes: category(1), datetime64[ns](1), float64(1), int64(2), object(9)\n",
      "memory usage: 11.1+ MB\n"
     ]
    }
   ],
   "source": [
    "ns_df.drop(['appointmentid'], axis=1, inplace=True)\n",
    "ns_df.info()"
   ]
  },
  {
   "cell_type": "markdown",
   "metadata": {},
   "source": [
    "My last step of cleaning the data involved changing the values under sms_received from 0 and 1 to 'not received' and 'received' respectively, for clarity. "
   ]
  },
  {
   "cell_type": "code",
   "execution_count": 86,
   "metadata": {},
   "outputs": [
    {
     "data": {
      "text/html": [
       "<div>\n",
       "<style scoped>\n",
       "    .dataframe tbody tr th:only-of-type {\n",
       "        vertical-align: middle;\n",
       "    }\n",
       "\n",
       "    .dataframe tbody tr th {\n",
       "        vertical-align: top;\n",
       "    }\n",
       "\n",
       "    .dataframe thead th {\n",
       "        text-align: right;\n",
       "    }\n",
       "</style>\n",
       "<table border=\"1\" class=\"dataframe\">\n",
       "  <thead>\n",
       "    <tr style=\"text-align: right;\">\n",
       "      <th></th>\n",
       "      <th>patientid</th>\n",
       "      <th>gender</th>\n",
       "      <th>schedule_date</th>\n",
       "      <th>appointment_date</th>\n",
       "      <th>age</th>\n",
       "      <th>neighbourhood</th>\n",
       "      <th>scholarship</th>\n",
       "      <th>hypertension</th>\n",
       "      <th>diabetes</th>\n",
       "      <th>alcoholism</th>\n",
       "      <th>handicap</th>\n",
       "      <th>sms_received</th>\n",
       "      <th>no_show</th>\n",
       "      <th>age_group</th>\n",
       "    </tr>\n",
       "  </thead>\n",
       "  <tbody>\n",
       "    <tr>\n",
       "      <th>0</th>\n",
       "      <td>2.987250e+13</td>\n",
       "      <td>F</td>\n",
       "      <td>2016-04-29</td>\n",
       "      <td>2016-04-29</td>\n",
       "      <td>62</td>\n",
       "      <td>JARDIM DA PENHA</td>\n",
       "      <td>0</td>\n",
       "      <td>1</td>\n",
       "      <td>0</td>\n",
       "      <td>0</td>\n",
       "      <td>0</td>\n",
       "      <td>not received</td>\n",
       "      <td>No</td>\n",
       "      <td>mid_age</td>\n",
       "    </tr>\n",
       "    <tr>\n",
       "      <th>1</th>\n",
       "      <td>5.589978e+14</td>\n",
       "      <td>M</td>\n",
       "      <td>2016-04-29</td>\n",
       "      <td>2016-04-29</td>\n",
       "      <td>56</td>\n",
       "      <td>JARDIM DA PENHA</td>\n",
       "      <td>0</td>\n",
       "      <td>0</td>\n",
       "      <td>0</td>\n",
       "      <td>0</td>\n",
       "      <td>0</td>\n",
       "      <td>not received</td>\n",
       "      <td>No</td>\n",
       "      <td>mid_age</td>\n",
       "    </tr>\n",
       "    <tr>\n",
       "      <th>2</th>\n",
       "      <td>4.262962e+12</td>\n",
       "      <td>F</td>\n",
       "      <td>2016-04-29</td>\n",
       "      <td>2016-04-29</td>\n",
       "      <td>62</td>\n",
       "      <td>MATA DA PRAIA</td>\n",
       "      <td>0</td>\n",
       "      <td>0</td>\n",
       "      <td>0</td>\n",
       "      <td>0</td>\n",
       "      <td>0</td>\n",
       "      <td>not received</td>\n",
       "      <td>No</td>\n",
       "      <td>mid_age</td>\n",
       "    </tr>\n",
       "    <tr>\n",
       "      <th>3</th>\n",
       "      <td>8.679512e+11</td>\n",
       "      <td>F</td>\n",
       "      <td>2016-04-29</td>\n",
       "      <td>2016-04-29</td>\n",
       "      <td>8</td>\n",
       "      <td>PONTAL DE CAMBURI</td>\n",
       "      <td>0</td>\n",
       "      <td>0</td>\n",
       "      <td>0</td>\n",
       "      <td>0</td>\n",
       "      <td>0</td>\n",
       "      <td>not received</td>\n",
       "      <td>No</td>\n",
       "      <td>paed</td>\n",
       "    </tr>\n",
       "    <tr>\n",
       "      <th>4</th>\n",
       "      <td>8.841186e+12</td>\n",
       "      <td>F</td>\n",
       "      <td>2016-04-29</td>\n",
       "      <td>2016-04-29</td>\n",
       "      <td>56</td>\n",
       "      <td>JARDIM DA PENHA</td>\n",
       "      <td>0</td>\n",
       "      <td>1</td>\n",
       "      <td>1</td>\n",
       "      <td>0</td>\n",
       "      <td>0</td>\n",
       "      <td>not received</td>\n",
       "      <td>No</td>\n",
       "      <td>mid_age</td>\n",
       "    </tr>\n",
       "  </tbody>\n",
       "</table>\n",
       "</div>"
      ],
      "text/plain": [
       "      patientid gender schedule_date appointment_date  age      neighbourhood  \\\n",
       "0  2.987250e+13      F    2016-04-29       2016-04-29   62    JARDIM DA PENHA   \n",
       "1  5.589978e+14      M    2016-04-29       2016-04-29   56    JARDIM DA PENHA   \n",
       "2  4.262962e+12      F    2016-04-29       2016-04-29   62      MATA DA PRAIA   \n",
       "3  8.679512e+11      F    2016-04-29       2016-04-29    8  PONTAL DE CAMBURI   \n",
       "4  8.841186e+12      F    2016-04-29       2016-04-29   56    JARDIM DA PENHA   \n",
       "\n",
       "   scholarship hypertension diabetes alcoholism handicap  sms_received  \\\n",
       "0            0            1        0          0        0  not received   \n",
       "1            0            0        0          0        0  not received   \n",
       "2            0            0        0          0        0  not received   \n",
       "3            0            0        0          0        0  not received   \n",
       "4            0            1        1          0        0  not received   \n",
       "\n",
       "  no_show age_group  \n",
       "0      No   mid_age  \n",
       "1      No   mid_age  \n",
       "2      No   mid_age  \n",
       "3      No      paed  \n",
       "4      No   mid_age  "
      ]
     },
     "execution_count": 86,
     "metadata": {},
     "output_type": "execute_result"
    }
   ],
   "source": [
    "ns_df.sms_received.replace(0, 'not received', inplace=True)\n",
    "ns_df.sms_received.replace(1, 'received', inplace=True)\n",
    "ns_df.head()"
   ]
  },
  {
   "cell_type": "markdown",
   "metadata": {},
   "source": [
    "### Saving the Cleaned Dataset.\n",
    "\n",
    "Finally, the data is clean! So, I saved the cleaned data in a fresh csv file, ready to be analyzed."
   ]
  },
  {
   "cell_type": "code",
   "execution_count": 87,
   "metadata": {},
   "outputs": [],
   "source": [
    "ns_df.to_csv('clean_no_show.csv', index=False)"
   ]
  },
  {
   "cell_type": "markdown",
   "metadata": {},
   "source": [
    "<a id='eda'></a>\n",
    "## Exploratory Data Analysis\n",
    "\n",
    "Now, it is time to perform exploratory data analysis: visualize the data and answer the questions. To do this, I imported `pandas` to load and read the cleaned data, `seaborn` and `matplotlib.pyplot` and `%matplotlib inline` to visualize view my visualizations as I go. To reiterate, and for ease of the reader, here are the questions:\n",
    "\n",
    "   1. What percentage of patients __kept__ their scheduled appointments?\n",
    "   2. Which gender is more likely to __schedule__ an appointment?\n",
    "   3. Patients of which age groups are most and least likely to __schedule__ an appointment? \n",
    "   4. Which gender is more likely to __keep__ an appointment?\n",
    "   5. Patients of which age groups are most and least likely to __keep__ an appointment? \n",
    "   6. From what neighbourhood do the most patients who keep their appointments come? \n",
    "   7. From what neighbourhood do the fewest patients who keep their appointments come? \n",
    "   8. How many patients on Bolsa Familia keep their appointments?\n",
    "   9. Do certain conditions (in this case, hypertension, diabetes, alcoholism and handicap) affect showing up for appointments?\n",
    "   10. Does receiving an SMS reminder help patients keep their appointments?\n",
    "   \n",
    "I decided to use green (#009c3b), yellow (#ffdf00), blue (#002776) and white on grey backgrounds as my main [colours](https://www.python-graph-gallery.com/3-control-color-of-barplots) -- the colours in the Brazilian flag. The hexadecimal codes were obtained from [here](https://en.wikipedia.org/wiki/Flag_of_Brazil).\n",
    "\n",
    "  Of course, I read the cleaned data using `pandas`."
   ]
  },
  {
   "cell_type": "code",
   "execution_count": 88,
   "metadata": {},
   "outputs": [],
   "source": [
    "clean_ns = pd.read_csv('clean_no_show.csv')"
   ]
  },
  {
   "cell_type": "markdown",
   "metadata": {},
   "source": [
    "### Research Question 1: What percentage of patients __kept__ their scheduled appointments?\n",
    "\n",
    "We used the `value_counts()` function to find both the absolute (actual number) and relative (percentage) values."
   ]
  },
  {
   "cell_type": "code",
   "execution_count": 89,
   "metadata": {},
   "outputs": [
    {
     "data": {
      "text/plain": [
       "No     88208\n",
       "Yes    22319\n",
       "Name: no_show, dtype: int64"
      ]
     },
     "execution_count": 89,
     "metadata": {},
     "output_type": "execute_result"
    }
   ],
   "source": [
    "clean_ns['no_show'].value_counts()"
   ]
  },
  {
   "cell_type": "code",
   "execution_count": 90,
   "metadata": {},
   "outputs": [
    {
     "data": {
      "text/plain": [
       "No     0.798067\n",
       "Yes    0.201933\n",
       "Name: no_show, dtype: float64"
      ]
     },
     "execution_count": 90,
     "metadata": {},
     "output_type": "execute_result"
    }
   ],
   "source": [
    "clean_ns['no_show'].value_counts(normalize=True)"
   ]
  },
  {
   "cell_type": "markdown",
   "metadata": {},
   "source": [
    "From the above, out of 110,527 patients, __88,208 (79.81%)__ of them showed up to their scheduled appointments. __22,319 (20.19%)__, on the other hand, did not. I represented this using a donut chart, using code I learned [here](https://medium.com/@kvnamipara/a-better-visualisation-of-pie-charts-by-matplotlib-935b7667d77f)."
   ]
  },
  {
   "cell_type": "code",
   "execution_count": 91,
   "metadata": {},
   "outputs": [
    {
     "data": {
      "image/png": "[encoded data removed]",
      "text/plain": [
       "<Figure size 432x288 with 1 Axes>"
      ]
     },
     "metadata": {},
     "output_type": "display_data"
    }
   ],
   "source": [
    "y = [79.81, 20.19]\n",
    "mylabels = ['Show', 'No Show']\n",
    "patches, texts, autotexts=plt.pie(y, labels = mylabels, radius=1.5, colors=('#ffdf00', '#002776'),\n",
    "       autopct='%1.1f%%', pctdistance=0.85)\n",
    "\n",
    "for autotext in autotexts:\n",
    "    autotext.set_color('grey')\n",
    "    \n",
    "centre_circle = plt.Circle((0,0),1.0,fc='white')\n",
    "fig = plt.gcf()\n",
    "fig.gca().add_artist(centre_circle)\n",
    "plt.title('% of Patients that Showed Up to Appointments')\n",
    "plt.axis('equal')  \n",
    "\n",
    "plt.show();"
   ]
  },
  {
   "cell_type": "markdown",
   "metadata": {},
   "source": [
    "From the above donut chart, it is seen that **79.8%** of patients showed up for their appointments.\n",
    "\n",
    "### Research Question 2: Which gender is more likely to __schedule__ an appointment?\n",
    "\n",
    "To answer this, I needed to know how many men and women make up the dataset. So I used the `value_counts()` command. Then I plotted a bar chart to visualize my results. "
   ]
  },
  {
   "cell_type": "code",
   "execution_count": 92,
   "metadata": {},
   "outputs": [
    {
     "data": {
      "text/plain": [
       "F    71840\n",
       "M    38687\n",
       "Name: gender, dtype: int64"
      ]
     },
     "execution_count": 92,
     "metadata": {},
     "output_type": "execute_result"
    }
   ],
   "source": [
    "clean_ns['gender'].value_counts()"
   ]
  },
  {
   "cell_type": "code",
   "execution_count": 93,
   "metadata": {},
   "outputs": [
    {
     "data": {
      "image/png": "[encoded data removed]",
      "text/plain": [
       "<Figure size 432x288 with 1 Axes>"
      ]
     },
     "metadata": {},
     "output_type": "display_data"
    }
   ],
   "source": [
    "# plot\n",
    "locations = [1, 2]\n",
    "heights = [71840, 38687]\n",
    "labels = ['Female', 'Male']\n",
    "plt.bar(locations, heights, tick_label=labels, color=('#009c3b', '#ffdf00'))\n",
    "plt.title('Gender Distribution of Scheduled Appointments')\n",
    "plt.xlabel('Gender')\n",
    "plt.ylabel('Number of Patients');"
   ]
  },
  {
   "cell_type": "markdown",
   "metadata": {},
   "source": [
    "The bar chart shows that **women** are more likely to schedule (**71840 F > 38687 M**) appointments than men.\n",
    "\n",
    "### Research Question 3: Patients of which age groups are most and least likely to schedule an appointment? \n",
    "    \n",
    "To answer this, I followed the same procedure as the previous question: `value_counts()` then bar chart."
   ]
  },
  {
   "cell_type": "code",
   "execution_count": 94,
   "metadata": {},
   "outputs": [
    {
     "data": {
      "text/plain": [
       "youth      47370\n",
       "paed       24469\n",
       "mid_age    24286\n",
       "elderly    14402\n",
       "Name: age_group, dtype: int64"
      ]
     },
     "execution_count": 94,
     "metadata": {},
     "output_type": "execute_result"
    }
   ],
   "source": [
    "# age group\n",
    "clean_ns['age_group'].value_counts()"
   ]
  },
  {
   "cell_type": "code",
   "execution_count": 95,
   "metadata": {},
   "outputs": [
    {
     "data": {
      "image/png": "[encoded data removed]",
      "text/plain": [
       "<Figure size 432x288 with 1 Axes>"
      ]
     },
     "metadata": {},
     "output_type": "display_data"
    }
   ],
   "source": [
    "# plot\n",
    "locations = [1, 2, 3, 4]\n",
    "heights = [47370, 24469, 24286, 14402]\n",
    "labels = ['Youth', 'Paediatric Age', 'Middle Age', 'Elderly']\n",
    "plt.bar(locations, heights, tick_label=labels, color=('#009c3b', '#ffdf00', '#002776', '#ffffff'), \n",
    "        edgecolor = ('#002776', '#002776', '#002776', '#002776'))\n",
    "plt.title('Age Distribution of Scheduled Appointments')\n",
    "plt.xlabel('Age Group')\n",
    "plt.ylabel('Number of Patients');"
   ]
  },
  {
   "cell_type": "markdown",
   "metadata": {},
   "source": [
    "The next few answered questions were based on who actually _kept_ their appointments.\n",
    "\n",
    "It was going to be a little clumsy to work with the original clean dataframe. So, I created a whole new dataframe,`show_up`, containing only patients who showed up to their appointments, using the `query()` command. It is important to note here that \"No\" means that the patients _weren't_ no-shows, meaning that they kept their appointments."
   ]
  },
  {
   "cell_type": "code",
   "execution_count": 96,
   "metadata": {},
   "outputs": [
    {
     "data": {
      "text/html": [
       "<div>\n",
       "<style scoped>\n",
       "    .dataframe tbody tr th:only-of-type {\n",
       "        vertical-align: middle;\n",
       "    }\n",
       "\n",
       "    .dataframe tbody tr th {\n",
       "        vertical-align: top;\n",
       "    }\n",
       "\n",
       "    .dataframe thead th {\n",
       "        text-align: right;\n",
       "    }\n",
       "</style>\n",
       "<table border=\"1\" class=\"dataframe\">\n",
       "  <thead>\n",
       "    <tr style=\"text-align: right;\">\n",
       "      <th></th>\n",
       "      <th>patientid</th>\n",
       "      <th>gender</th>\n",
       "      <th>schedule_date</th>\n",
       "      <th>appointment_date</th>\n",
       "      <th>age</th>\n",
       "      <th>neighbourhood</th>\n",
       "      <th>scholarship</th>\n",
       "      <th>hypertension</th>\n",
       "      <th>diabetes</th>\n",
       "      <th>alcoholism</th>\n",
       "      <th>handicap</th>\n",
       "      <th>sms_received</th>\n",
       "      <th>no_show</th>\n",
       "      <th>age_group</th>\n",
       "    </tr>\n",
       "  </thead>\n",
       "  <tbody>\n",
       "    <tr>\n",
       "      <th>0</th>\n",
       "      <td>2.987250e+13</td>\n",
       "      <td>F</td>\n",
       "      <td>2016-04-29</td>\n",
       "      <td>2016-04-29</td>\n",
       "      <td>62</td>\n",
       "      <td>JARDIM DA PENHA</td>\n",
       "      <td>0</td>\n",
       "      <td>1</td>\n",
       "      <td>0</td>\n",
       "      <td>0</td>\n",
       "      <td>0</td>\n",
       "      <td>not received</td>\n",
       "      <td>No</td>\n",
       "      <td>mid_age</td>\n",
       "    </tr>\n",
       "    <tr>\n",
       "      <th>1</th>\n",
       "      <td>5.589978e+14</td>\n",
       "      <td>M</td>\n",
       "      <td>2016-04-29</td>\n",
       "      <td>2016-04-29</td>\n",
       "      <td>56</td>\n",
       "      <td>JARDIM DA PENHA</td>\n",
       "      <td>0</td>\n",
       "      <td>0</td>\n",
       "      <td>0</td>\n",
       "      <td>0</td>\n",
       "      <td>0</td>\n",
       "      <td>not received</td>\n",
       "      <td>No</td>\n",
       "      <td>mid_age</td>\n",
       "    </tr>\n",
       "    <tr>\n",
       "      <th>2</th>\n",
       "      <td>4.262962e+12</td>\n",
       "      <td>F</td>\n",
       "      <td>2016-04-29</td>\n",
       "      <td>2016-04-29</td>\n",
       "      <td>62</td>\n",
       "      <td>MATA DA PRAIA</td>\n",
       "      <td>0</td>\n",
       "      <td>0</td>\n",
       "      <td>0</td>\n",
       "      <td>0</td>\n",
       "      <td>0</td>\n",
       "      <td>not received</td>\n",
       "      <td>No</td>\n",
       "      <td>mid_age</td>\n",
       "    </tr>\n",
       "  </tbody>\n",
       "</table>\n",
       "</div>"
      ],
      "text/plain": [
       "      patientid gender schedule_date appointment_date  age    neighbourhood  \\\n",
       "0  2.987250e+13      F    2016-04-29       2016-04-29   62  JARDIM DA PENHA   \n",
       "1  5.589978e+14      M    2016-04-29       2016-04-29   56  JARDIM DA PENHA   \n",
       "2  4.262962e+12      F    2016-04-29       2016-04-29   62    MATA DA PRAIA   \n",
       "\n",
       "   scholarship  hypertension  diabetes  alcoholism  handicap  sms_received  \\\n",
       "0            0             1         0           0         0  not received   \n",
       "1            0             0         0           0         0  not received   \n",
       "2            0             0         0           0         0  not received   \n",
       "\n",
       "  no_show age_group  \n",
       "0      No   mid_age  \n",
       "1      No   mid_age  \n",
       "2      No   mid_age  "
      ]
     },
     "execution_count": 96,
     "metadata": {},
     "output_type": "execute_result"
    }
   ],
   "source": [
    "show_up = clean_ns.query('no_show == \"No\"')\n",
    "show_up.head(3)"
   ]
  },
  {
   "cell_type": "markdown",
   "metadata": {},
   "source": [
    "The above bar charts show that: \n",
    "1. Patients in the **Youth** age group are most likely to schedule (**42.86%**) an appointment. \n",
    "2. Patients in the **Elderly** age group are least likely to schedule (**13.02%**) an appointment.\n",
    "\n",
    "### Research Questions 4 & 5: Which gender is more likely to keep an appointment? Patients of which age groups are most and least likely to keep an appointment?\n",
    "\n",
    "I decided to use a pie chart to visualize these. This [blog post](https://medium.com/@kvnamipara/a-better-visualisation-of-pie-charts-by-matplotlib-935b7667d77f) on Medium really helped me write the required code. "
   ]
  },
  {
   "cell_type": "code",
   "execution_count": 97,
   "metadata": {},
   "outputs": [
    {
     "data": {
      "text/plain": [
       "F    0.648989\n",
       "M    0.351011\n",
       "Name: gender, dtype: float64"
      ]
     },
     "execution_count": 97,
     "metadata": {},
     "output_type": "execute_result"
    }
   ],
   "source": [
    "show_up['gender'].value_counts(normalize=True)"
   ]
  },
  {
   "cell_type": "code",
   "execution_count": 98,
   "metadata": {},
   "outputs": [
    {
     "data": {
      "image/png": "[encoded data removed]",
      "text/plain": [
       "<Figure size 432x288 with 1 Axes>"
      ]
     },
     "metadata": {},
     "output_type": "display_data"
    }
   ],
   "source": [
    "y = [64.90, 35.10]\n",
    "mylabels = ['Female', 'Male']\n",
    "plt.pie(y, labels = mylabels, radius=1.5, colors=('#009c3b', '#ffdf00'),\n",
    "       autopct='%1.1f%%')\n",
    "plt.axis('equal')\n",
    "plt.title('Gender Distribution of Kept Appointments')\n",
    "plt.show();"
   ]
  },
  {
   "cell_type": "code",
   "execution_count": 99,
   "metadata": {},
   "outputs": [
    {
     "data": {
      "text/plain": [
       "youth      0.415098\n",
       "mid_age    0.229038\n",
       "paed       0.217905\n",
       "elderly    0.137958\n",
       "Name: age_group, dtype: float64"
      ]
     },
     "execution_count": 99,
     "metadata": {},
     "output_type": "execute_result"
    }
   ],
   "source": [
    "show_up['age_group'].value_counts(normalize=True)"
   ]
  },
  {
   "cell_type": "code",
   "execution_count": 100,
   "metadata": {},
   "outputs": [
    {
     "data": {
      "image/png": "[encoded data removed]",
      "text/plain": [
       "<Figure size 432x288 with 1 Axes>"
      ]
     },
     "metadata": {},
     "output_type": "display_data"
    }
   ],
   "source": [
    "y = [41.51, 22.90, 21.79, 13.80]\n",
    "mylabels = ['Youth', 'Middle Age','Paediatric Age', 'Elderly']\n",
    "patches, texts, autotexts=plt.pie(y, labels = mylabels, radius=2, colors=('#009c3b', '#ffdf00', '#002776', '#ffffff'),\n",
    "       autopct='%1.1f%%')\n",
    "\n",
    "for autotext in autotexts:\n",
    "    autotext.set_color('red')\n",
    "plt.axis('equal')\n",
    "plt.title('Age Distribution of Kept Appointments')\n",
    "plt.show();"
   ]
  },
  {
   "cell_type": "markdown",
   "metadata": {},
   "source": [
    " The pie charts show that:\n",
    "1. **Women** are more likely to keep (**64.9%**) appointments than men.\n",
    "2. Patients in the **Youth** age group are most likely to keep (**41.5%**) an appointment. \n",
    "3. Patients in the **Elderly** age group are least likely to keep (**13.8%**) an appointment.\n",
    "\n",
    "### Research Questions 6 & 7: From what neighbourhood do the most patients who keep their appointments come? From what neighbourhood do the fewest patients who keep their appointments come? \n",
    "\n",
    "I answered these questions the same way. First, I used the `value_counts` function to view the neighbourhoods in the dataset and how many times they occurred. However, there were 80 and I needed only the top and bottom 5. \n",
    "\n",
    "My next step was to create two new dataframes from the `show_up` dataframe: one with only the top 5 (`top_neigh`) and the other with the bottom 5 neighbourhoods (`bottom_neigh`). After creating these queries, I plotted horizontal bar charts for the values and created [functions](https://www.w3schools.com/python/python_functions.asp) stating the top and bottom neighbourhoods. "
   ]
  },
  {
   "cell_type": "code",
   "execution_count": 101,
   "metadata": {},
   "outputs": [],
   "source": [
    "def neighbourhood(nbhood):\n",
    "  print(nbhood + \",\" + lname)"
   ]
  },
  {
   "cell_type": "code",
   "execution_count": 102,
   "metadata": {},
   "outputs": [
    {
     "data": {
      "text/plain": [
       "JARDIM CAMBURI       6252\n",
       "MARIA ORTIZ          4586\n",
       "RESISTÊNCIA          3525\n",
       "JARDIM DA PENHA      3246\n",
       "SANTA MARTHA         2635\n",
       "                     ... \n",
       "PONTAL DE CAMBURI      57\n",
       "ILHA DO BOI            32\n",
       "ILHA DO FRADE           8\n",
       "AEROPORTO               7\n",
       "PARQUE INDUSTRIAL       1\n",
       "Name: neighbourhood, Length: 80, dtype: int64"
      ]
     },
     "execution_count": 102,
     "metadata": {},
     "output_type": "execute_result"
    }
   ],
   "source": [
    "show_up['neighbourhood'].value_counts()"
   ]
  },
  {
   "cell_type": "code",
   "execution_count": 103,
   "metadata": {
    "scrolled": true
   },
   "outputs": [
    {
     "data": {
      "text/plain": [
       "JARDIM CAMBURI     6252\n",
       "MARIA ORTIZ        4586\n",
       "RESISTÊNCIA        3525\n",
       "JARDIM DA PENHA    3246\n",
       "SANTA MARTHA       2635\n",
       "Name: neighbourhood, dtype: int64"
      ]
     },
     "execution_count": 103,
     "metadata": {},
     "output_type": "execute_result"
    }
   ],
   "source": [
    "top_neigh = show_up.query('neighbourhood == [\"JARDIM CAMBURI\", \"MARIA ORTIZ\", \"RESISTÊNCIA\", \"JARDIM DA PENHA\", \"SANTA MARTHA\"]')\n",
    "top_neigh['neighbourhood'].value_counts()"
   ]
  },
  {
   "cell_type": "code",
   "execution_count": 104,
   "metadata": {},
   "outputs": [
    {
     "data": {
      "image/png": "[encoded data removed]",
      "text/plain": [
       "<Figure size 432x288 with 1 Axes>"
      ]
     },
     "metadata": {},
     "output_type": "display_data"
    }
   ],
   "source": [
    "locations = [1, 2, 3, 4, 5]\n",
    "heights = [6252, 4586, 3525, 3246, 2635]\n",
    "labels = [\"JARDIM CAMBURI\", \"MARIA ORTIZ\", \"RESISTÊNCIA\", \"JARDIM DA PENHA\", \"SANTA MARTHA\"]\n",
    "plt.barh(locations, heights, tick_label=labels, \n",
    "         color=('#009c3b', '#ffdf00', '#002776', 'grey', '#ffffff'), \n",
    "         edgecolor = ('#002776', '#002776', '#002776', '#002776', '#002776'))\n",
    "plt.title('Top 5 Neighbourhoods with Fulfilled Appointments')\n",
    "plt.xlabel('Neighbourhood')\n",
    "plt.ylabel('Number of Patients');"
   ]
  },
  {
   "cell_type": "code",
   "execution_count": 105,
   "metadata": {},
   "outputs": [],
   "source": [
    "top_nbhoods = [\"JARDIM CAMBURI\", \"MARIA ORTIZ\", \"RESISTÊNCIA\", \"JARDIM DA PENHA\", \"SANTA MARTHA\"]"
   ]
  },
  {
   "cell_type": "code",
   "execution_count": 106,
   "metadata": {},
   "outputs": [
    {
     "name": "stdout",
     "output_type": "stream",
     "text": [
      "The top neighbourhood is JARDIM CAMBURI\n"
     ]
    }
   ],
   "source": [
    "def neighbourhood():\n",
    "  print(\"The top neighbourhood is \" + top_nbhoods[0])\n",
    "\n",
    "neighbourhood()"
   ]
  },
  {
   "cell_type": "code",
   "execution_count": 107,
   "metadata": {},
   "outputs": [
    {
     "data": {
      "text/plain": [
       "PONTAL DE CAMBURI    57\n",
       "ILHA DO BOI          32\n",
       "ILHA DO FRADE         8\n",
       "AEROPORTO             7\n",
       "PARQUE INDUSTRIAL     1\n",
       "Name: neighbourhood, dtype: int64"
      ]
     },
     "execution_count": 107,
     "metadata": {},
     "output_type": "execute_result"
    }
   ],
   "source": [
    "bottom_neigh = show_up.query('neighbourhood == [\"PONTAL DE CAMBURI\", \"ILHA DO BOI\", \"ILHA DO FRADE\", \"AEROPORTO\", \"PARQUE INDUSTRIAL\"]')\n",
    "bottom_neigh['neighbourhood'].value_counts()"
   ]
  },
  {
   "cell_type": "code",
   "execution_count": 108,
   "metadata": {
    "scrolled": true
   },
   "outputs": [
    {
     "data": {
      "image/png": "[encoded data removed]",
      "text/plain": [
       "<Figure size 432x288 with 1 Axes>"
      ]
     },
     "metadata": {},
     "output_type": "display_data"
    }
   ],
   "source": [
    "locations = [1, 2, 3, 4, 5]\n",
    "heights = [57, 32, 8, 7, 1]\n",
    "labels = [\"PONTAL DE CAMBURI\", \"ILHA DO BOI\", \"ILHA DO FRADE\", \"AEROPORTO\", \"PARQUE INDUSTRIAL\"]\n",
    "plt.barh(locations, heights, tick_label=labels, \n",
    "         color=('#009c3b', '#ffdf00', '#002776', 'grey', '#ffffff'), \n",
    "         edgecolor = ('#002776', '#002776', '#002776', '#002776', '#002776'))\n",
    "plt.title('Bottom 5 Neighbourhoods with Fulfilled Appointments')\n",
    "plt.xlabel('Neighbourhood')\n",
    "plt.ylabel('Number of Patients');"
   ]
  },
  {
   "cell_type": "code",
   "execution_count": 109,
   "metadata": {},
   "outputs": [],
   "source": [
    "bottom_nbhoods = [\"PONTAL DE CAMBURI\", \"ILHA DO BOI\", \"ILHA DO FRADE\", \"AEROPORTO\", \"PARQUE INDUSTRIAL\"]"
   ]
  },
  {
   "cell_type": "code",
   "execution_count": 110,
   "metadata": {},
   "outputs": [
    {
     "name": "stdout",
     "output_type": "stream",
     "text": [
      "The bottom neighbourhood is PARQUE INDUSTRIAL\n"
     ]
    }
   ],
   "source": [
    "def bot_neighbourhood():\n",
    "  print(\"The bottom neighbourhood is \" + bottom_nbhoods[4])\n",
    "\n",
    "bot_neighbourhood()"
   ]
  },
  {
   "cell_type": "markdown",
   "metadata": {},
   "source": [
    "Going by the above charts, The __Jardim Camburi__ neighbourhood had the most patients keeping their appointments with __6252__ patients, while __Parque Industrial__ had the fewest, with only __1__ patient. \n",
    "\n",
    "\n",
    "### Research Question 8: Do patients on Bolsa Familia keep their appointments more?\n",
    "\n",
    "Now, to answer this, we created a dataframe, `bolsa_fam` containing only the patients that were on Bolsa Familia. Again, I used the query function to keep the code easy and short. Then, I used the `value_counts()` function to determine how many and what percentage of those 10,861 patients actually showed up to their appointments."
   ]
  },
  {
   "cell_type": "code",
   "execution_count": 111,
   "metadata": {
    "scrolled": true
   },
   "outputs": [
    {
     "name": "stdout",
     "output_type": "stream",
     "text": [
      "<class 'pandas.core.frame.DataFrame'>\n",
      "Int64Index: 10861 entries, 12 to 110482\n",
      "Data columns (total 14 columns):\n",
      " #   Column            Non-Null Count  Dtype  \n",
      "---  ------            --------------  -----  \n",
      " 0   patientid         10861 non-null  float64\n",
      " 1   gender            10861 non-null  object \n",
      " 2   schedule_date     10861 non-null  object \n",
      " 3   appointment_date  10861 non-null  object \n",
      " 4   age               10861 non-null  int64  \n",
      " 5   neighbourhood     10861 non-null  object \n",
      " 6   scholarship       10861 non-null  int64  \n",
      " 7   hypertension      10861 non-null  int64  \n",
      " 8   diabetes          10861 non-null  int64  \n",
      " 9   alcoholism        10861 non-null  int64  \n",
      " 10  handicap          10861 non-null  int64  \n",
      " 11  sms_received      10861 non-null  object \n",
      " 12  no_show           10861 non-null  object \n",
      " 13  age_group         10861 non-null  object \n",
      "dtypes: float64(1), int64(6), object(7)\n",
      "memory usage: 1.2+ MB\n"
     ]
    }
   ],
   "source": [
    "bolsa_fam = clean_ns.query('scholarship == 1')\n",
    "bolsa_fam.info()"
   ]
  },
  {
   "cell_type": "code",
   "execution_count": 112,
   "metadata": {},
   "outputs": [
    {
     "data": {
      "text/plain": [
       "No     8283\n",
       "Yes    2578\n",
       "Name: no_show, dtype: int64"
      ]
     },
     "execution_count": 112,
     "metadata": {},
     "output_type": "execute_result"
    }
   ],
   "source": [
    "bolsa_fam.no_show.value_counts()"
   ]
  },
  {
   "cell_type": "code",
   "execution_count": 113,
   "metadata": {},
   "outputs": [
    {
     "data": {
      "text/plain": [
       "No     0.762637\n",
       "Yes    0.237363\n",
       "Name: no_show, dtype: float64"
      ]
     },
     "execution_count": 113,
     "metadata": {},
     "output_type": "execute_result"
    }
   ],
   "source": [
    "bolsa_fam.no_show.value_counts(normalize=True)"
   ]
  },
  {
   "cell_type": "markdown",
   "metadata": {},
   "source": [
    "__8283__ out of 10861 (__76.26%__) patients on Bolsa Familia showed up to their appointments. This is a pretty wide margin, and a positive sign. \n",
    "\n",
    "\n",
    "### Research Question 9: Do certain conditions (in this case, hypertension, diabetes, alcoholism and handicap) affect showing up for appointments?\n",
    "\n",
    "Here, I'm simply going to find the percentages of patients who had any of the conditions provided and _still_ showed up for appointments. To do this, I created individual masks for each condition containing which of the patients had them using the original clean dataframe (`clean_ns`). Then, using the `percent(x)` [function](https://www.packt.com/python-functions-avoid-repeating-code/) which I created, I found the necessary percentages. I used this function because there are 4 conditions which will make writing the same code redundant.\n",
    "\n",
    "For the patients living with handicaps, I created the query differently. There are 4 grades of handicap, outside patients without handicap. The dataset did not provide what each grade stood for, unfortunately. So, I had to create one using all the grades to at least represent the patients that had _some_ sort of handicap.\n",
    "\n",
    "Finally, I created a multiple bar chart visualizing these differences."
   ]
  },
  {
   "cell_type": "code",
   "execution_count": 114,
   "metadata": {},
   "outputs": [],
   "source": [
    "def percent(x):\n",
    "    'this function returns percentage values'\n",
    "    return x.no_show.value_counts(normalize=True).to_frame()"
   ]
  },
  {
   "cell_type": "code",
   "execution_count": 115,
   "metadata": {},
   "outputs": [
    {
     "data": {
      "text/html": [
       "<div>\n",
       "<style scoped>\n",
       "    .dataframe tbody tr th:only-of-type {\n",
       "        vertical-align: middle;\n",
       "    }\n",
       "\n",
       "    .dataframe tbody tr th {\n",
       "        vertical-align: top;\n",
       "    }\n",
       "\n",
       "    .dataframe thead th {\n",
       "        text-align: right;\n",
       "    }\n",
       "</style>\n",
       "<table border=\"1\" class=\"dataframe\">\n",
       "  <thead>\n",
       "    <tr style=\"text-align: right;\">\n",
       "      <th></th>\n",
       "      <th>no_show</th>\n",
       "    </tr>\n",
       "  </thead>\n",
       "  <tbody>\n",
       "    <tr>\n",
       "      <th>No</th>\n",
       "      <td>0.82698</td>\n",
       "    </tr>\n",
       "    <tr>\n",
       "      <th>Yes</th>\n",
       "      <td>0.17302</td>\n",
       "    </tr>\n",
       "  </tbody>\n",
       "</table>\n",
       "</div>"
      ],
      "text/plain": [
       "     no_show\n",
       "No   0.82698\n",
       "Yes  0.17302"
      ]
     },
     "execution_count": 115,
     "metadata": {},
     "output_type": "execute_result"
    }
   ],
   "source": [
    "htn = clean_ns.query('hypertension == 1')\n",
    "percent(htn)"
   ]
  },
  {
   "cell_type": "code",
   "execution_count": 116,
   "metadata": {},
   "outputs": [
    {
     "data": {
      "text/html": [
       "<div>\n",
       "<style scoped>\n",
       "    .dataframe tbody tr th:only-of-type {\n",
       "        vertical-align: middle;\n",
       "    }\n",
       "\n",
       "    .dataframe tbody tr th {\n",
       "        vertical-align: top;\n",
       "    }\n",
       "\n",
       "    .dataframe thead th {\n",
       "        text-align: right;\n",
       "    }\n",
       "</style>\n",
       "<table border=\"1\" class=\"dataframe\">\n",
       "  <thead>\n",
       "    <tr style=\"text-align: right;\">\n",
       "      <th></th>\n",
       "      <th>no_show</th>\n",
       "    </tr>\n",
       "  </thead>\n",
       "  <tbody>\n",
       "    <tr>\n",
       "      <th>No</th>\n",
       "      <td>0.819967</td>\n",
       "    </tr>\n",
       "    <tr>\n",
       "      <th>Yes</th>\n",
       "      <td>0.180033</td>\n",
       "    </tr>\n",
       "  </tbody>\n",
       "</table>\n",
       "</div>"
      ],
      "text/plain": [
       "      no_show\n",
       "No   0.819967\n",
       "Yes  0.180033"
      ]
     },
     "execution_count": 116,
     "metadata": {},
     "output_type": "execute_result"
    }
   ],
   "source": [
    "dbt = clean_ns.query('diabetes == 1')\n",
    "percent(dbt)"
   ]
  },
  {
   "cell_type": "code",
   "execution_count": 117,
   "metadata": {},
   "outputs": [
    {
     "data": {
      "text/html": [
       "<div>\n",
       "<style scoped>\n",
       "    .dataframe tbody tr th:only-of-type {\n",
       "        vertical-align: middle;\n",
       "    }\n",
       "\n",
       "    .dataframe tbody tr th {\n",
       "        vertical-align: top;\n",
       "    }\n",
       "\n",
       "    .dataframe thead th {\n",
       "        text-align: right;\n",
       "    }\n",
       "</style>\n",
       "<table border=\"1\" class=\"dataframe\">\n",
       "  <thead>\n",
       "    <tr style=\"text-align: right;\">\n",
       "      <th></th>\n",
       "      <th>no_show</th>\n",
       "    </tr>\n",
       "  </thead>\n",
       "  <tbody>\n",
       "    <tr>\n",
       "      <th>No</th>\n",
       "      <td>0.798512</td>\n",
       "    </tr>\n",
       "    <tr>\n",
       "      <th>Yes</th>\n",
       "      <td>0.201488</td>\n",
       "    </tr>\n",
       "  </tbody>\n",
       "</table>\n",
       "</div>"
      ],
      "text/plain": [
       "      no_show\n",
       "No   0.798512\n",
       "Yes  0.201488"
      ]
     },
     "execution_count": 117,
     "metadata": {},
     "output_type": "execute_result"
    }
   ],
   "source": [
    "alc = clean_ns.query('alcoholism == 1')\n",
    "percent(alc)"
   ]
  },
  {
   "cell_type": "code",
   "execution_count": 118,
   "metadata": {
    "scrolled": true
   },
   "outputs": [
    {
     "data": {
      "text/html": [
       "<div>\n",
       "<style scoped>\n",
       "    .dataframe tbody tr th:only-of-type {\n",
       "        vertical-align: middle;\n",
       "    }\n",
       "\n",
       "    .dataframe tbody tr th {\n",
       "        vertical-align: top;\n",
       "    }\n",
       "\n",
       "    .dataframe thead th {\n",
       "        text-align: right;\n",
       "    }\n",
       "</style>\n",
       "<table border=\"1\" class=\"dataframe\">\n",
       "  <thead>\n",
       "    <tr style=\"text-align: right;\">\n",
       "      <th></th>\n",
       "      <th>no_show</th>\n",
       "    </tr>\n",
       "  </thead>\n",
       "  <tbody>\n",
       "    <tr>\n",
       "      <th>No</th>\n",
       "      <td>0.818385</td>\n",
       "    </tr>\n",
       "    <tr>\n",
       "      <th>Yes</th>\n",
       "      <td>0.181615</td>\n",
       "    </tr>\n",
       "  </tbody>\n",
       "</table>\n",
       "</div>"
      ],
      "text/plain": [
       "      no_show\n",
       "No   0.818385\n",
       "Yes  0.181615"
      ]
     },
     "execution_count": 118,
     "metadata": {},
     "output_type": "execute_result"
    }
   ],
   "source": [
    "hdc = clean_ns.query('handicap == (1, 2, 3, 4)')\n",
    "percent(hdc)"
   ]
  },
  {
   "cell_type": "code",
   "execution_count": 119,
   "metadata": {},
   "outputs": [],
   "source": [
    "Condition=['HTN', 'Diabetes', 'Alcoholism',\n",
    "              'Handicap']\n",
    "show_percent=[82.7, 82, 79.85, 81.84]\n",
    "ns_percent= [17.3, 18, 20.15, 18.16]"
   ]
  },
  {
   "cell_type": "code",
   "execution_count": 120,
   "metadata": {},
   "outputs": [],
   "source": [
    "ind = np.arange(len(show_percent))  # the x locations for the groups\n",
    "width = 0.35       # the width of the bars"
   ]
  },
  {
   "cell_type": "code",
   "execution_count": 121,
   "metadata": {},
   "outputs": [
    {
     "data": {
      "image/png": "[encoded data removed]",
      "text/plain": [
       "<Figure size 432x288 with 1 Axes>"
      ]
     },
     "metadata": {},
     "output_type": "display_data"
    }
   ],
   "source": [
    "# plot bars\n",
    "show_bars = plt.bar(ind, show_percent, width, color='#009c3b', alpha=1, label='Show Up')\n",
    "ns_bars = plt.bar(ind + width, ns_percent, width, color='#ffdf00', alpha=1, label='No Show')\n",
    "\n",
    "# title and labels\n",
    "plt.ylabel('Percentage')\n",
    "plt.xlabel('Condition')\n",
    "plt.title('Patients that Showed Up by Chronic Condition (%)')\n",
    "locations = ind + width / 2  # xtick locations\n",
    "labels = Condition  # xtick labels\n",
    "figsize=(10,8)\n",
    "plt.xticks(locations, labels);\n",
    "\n",
    "# legend\n",
    "plt.legend(frameon=True);"
   ]
  },
  {
   "cell_type": "markdown",
   "metadata": {},
   "source": [
    "__82.70%__ of patients that had hypertension kept their appointments , __82.00%__ for patients with diabetes, __79.85%__ for patients were suffering from chronic alcoholism and __81.84%__ for patients that had any grade of handicap.\n",
    "\n",
    "\n",
    "### Research Question 10: Does receiving an SMS reminder help patients keep their appointments?\n",
    "\n",
    "To do this, I created a mask, again using `query`, containing only the patients who received the SMS reminders. Then I\n",
    "simply found the value counts of each variable under the no_show column. This way, I obtained the number, out of the 35482 patients, that showed up to their appointments after they received the SMS reminder. The results were plotted in a donut chart."
   ]
  },
  {
   "cell_type": "code",
   "execution_count": 122,
   "metadata": {},
   "outputs": [
    {
     "name": "stdout",
     "output_type": "stream",
     "text": [
      "<class 'pandas.core.frame.DataFrame'>\n",
      "Int64Index: 35482 entries, 11 to 110526\n",
      "Data columns (total 14 columns):\n",
      " #   Column            Non-Null Count  Dtype  \n",
      "---  ------            --------------  -----  \n",
      " 0   patientid         35482 non-null  float64\n",
      " 1   gender            35482 non-null  object \n",
      " 2   schedule_date     35482 non-null  object \n",
      " 3   appointment_date  35482 non-null  object \n",
      " 4   age               35482 non-null  int64  \n",
      " 5   neighbourhood     35482 non-null  object \n",
      " 6   scholarship       35482 non-null  int64  \n",
      " 7   hypertension      35482 non-null  int64  \n",
      " 8   diabetes          35482 non-null  int64  \n",
      " 9   alcoholism        35482 non-null  int64  \n",
      " 10  handicap          35482 non-null  int64  \n",
      " 11  sms_received      35482 non-null  object \n",
      " 12  no_show           35482 non-null  object \n",
      " 13  age_group         35482 non-null  object \n",
      "dtypes: float64(1), int64(6), object(7)\n",
      "memory usage: 4.1+ MB\n"
     ]
    }
   ],
   "source": [
    "sms_rem = clean_ns.query('sms_received == \"received\"')\n",
    "sms_rem.info()"
   ]
  },
  {
   "cell_type": "code",
   "execution_count": 123,
   "metadata": {},
   "outputs": [
    {
     "data": {
      "text/plain": [
       "No     25698\n",
       "Yes     9784\n",
       "Name: no_show, dtype: int64"
      ]
     },
     "execution_count": 123,
     "metadata": {},
     "output_type": "execute_result"
    }
   ],
   "source": [
    "sms_rem.no_show.value_counts()"
   ]
  },
  {
   "cell_type": "code",
   "execution_count": 124,
   "metadata": {},
   "outputs": [
    {
     "data": {
      "text/plain": [
       "No     0.724255\n",
       "Yes    0.275745\n",
       "Name: no_show, dtype: float64"
      ]
     },
     "execution_count": 124,
     "metadata": {},
     "output_type": "execute_result"
    }
   ],
   "source": [
    "sms_rem.no_show.value_counts(normalize=True)"
   ]
  },
  {
   "cell_type": "code",
   "execution_count": 125,
   "metadata": {},
   "outputs": [
    {
     "data": {
      "image/png": "[encoded data removed]",
      "text/plain": [
       "<Figure size 432x288 with 1 Axes>"
      ]
     },
     "metadata": {},
     "output_type": "display_data"
    }
   ],
   "source": [
    "y = [72.43, 27.57]\n",
    "mylabels = ['Show', 'No Show']\n",
    "patches, texts, autotexts=plt.pie(y, labels = mylabels, radius=1.5, colors=('#009c3b', '#002776'),\n",
    "       autopct='%1.1f%%', pctdistance=0.85)\n",
    "\n",
    "for autotext in autotexts:\n",
    "    autotext.set_color('yellow')\n",
    "    \n",
    "centre_circle = plt.Circle((0,0),1.0,fc='white')\n",
    "fig = plt.gcf()\n",
    "fig.gca().add_artist(centre_circle)\n",
    "plt.title('% of Patients that Showed Up After Receiving SMS Reminders')\n",
    "plt.axis('equal')  \n",
    "\n",
    "plt.show();"
   ]
  },
  {
   "cell_type": "markdown",
   "metadata": {},
   "source": [
    "__72.43%__ of patients showed up to their appointments after receiving the SMS reminder, showing that the reminders were important for them to show up."
   ]
  },
  {
   "cell_type": "markdown",
   "metadata": {},
   "source": [
    "<a id='conclusions'></a>\n",
    "## Conclusions\n",
    "\n",
    "These are the inferences made from each visualization in the EDA section: \n",
    "1. **Women** are more likely to schedule (**71840 F > 38687 M**) and keep (**64.9%**) appointments.\n",
    "2. Patients in the **Youth** age group are most likely to schedule (**42.86%**) and keep (**41.5%**) an appointment. \n",
    "3. Patients in the **Elderly** age group are least likely to schedule (**13.02%**) and keep (**13.8%**) an appointment.\n",
    "4. The __Jardim Camburi__ neighbourhood had the most patients keeping their appointments with __6252__ patients, while __Parque Industrial__ had the fewest, with only __1__ patient. \n",
    "5. __8283__ out of 10861 (__76.26%__) patients on Bolsa Familia showed up to their appointments. This is a pretty wide margin, and a positive sign. \n",
    "6. __82.70%__ of patients that had hypertension kept their appointments , __82.00%__ for patients with diabetes, __79.85%__ for patients were suffering from chronic alcoholism and __81.84%__ for patients that had any grade of handicap.\n",
    "7. __72.43%__ of patients showed up to their appointments after receiving the SMS reminder.\n",
    "\n",
    "### Limitations\n",
    "1. The economic states of the neighbourhoods were not given or suggested, making it difficult to provide insight as to why more patients showed up to appointments from certain neighbourhoods. \n",
    "2. The dataset did not provide what each grade of handicap stood for, which impeded my ability to draw further conclusions on the correlation between handicap and showing up to appointments."
   ]
  },
  {
   "cell_type": "markdown",
   "metadata": {},
   "source": [
    "<a id='recommendations'></a>\n",
    "## Recommendations\n",
    "1. Men need to improve on their general health seeking behaviour.\n",
    "2. The elderly should be counselled to attend their appointments. If some of them are too old to go on their own, arrangements should be made to either convey them to their nearest hospital or bring two medical personnel to their homes to care for them.\n",
    "3. Neighbourhoods with the fewest patients who attended their appointments should be researched upon so as to assist them according to their needs.\n",
    "4. More programs like Bolsa Familia should be created as it is seen to have aided people who otherwise couldn't go to hospital do so. \n",
    "5. Sequel to the previous point, it is important to note that 23.74% is still a pretty large number. Therefore, the patients in this category would require more education, sensitization and counselling. Facilities, like clinics, should also be made available to them as required.\n",
    "6. Chronic illnesses don't seem to be that much of a stumbling block. However, for non-ambulatory patients, arrangements should be made to either convey them to their nearest hospital or bring two medical personnel to their homes to care for them.\n",
    "7. SMS reminders for appointments should be kept up as they aided patients to keep to the scheduled appointments."
   ]
  },
  {
   "cell_type": "markdown",
   "metadata": {},
   "source": [
    "<a id='references'></a>\n",
    "## References.\n",
    "\n",
    "1. Bolsa Família: (https://en.wikipedia.org/wiki/Bolsa_Fam%C3%ADlia)\n",
    "2. Factors Influening Health-Seeking Behaviour Among Civil Servants in Ibadan, Nigeria:\n",
    "(https://www.ncbi.nlm.nih.gov/pmc/articles/PMC6143883/#:~:text=Healthcare%20seeking%20behaviour%20(HSB)%20has,behaviour%20or%20sick%2Dterm%20behaviour)\n",
    "3. (https://bmcneurol.biomedcentral.com/articles/10.1186/s12883-020-01888-w)\n",
    "4. randint() Function in Python: (https://www.geeksforgeeks.org/python-randint-function/)\n",
    "5. Pandas.cut() method in Python: \n",
    "(https://www.geeksforgeeks.org/pandas-cut-method-in-python/)\n",
    "6. “extract date from datetime pandas” Code Answer’s: \n",
    "(https://www.codegrepper.com/code-examples/python/extract+date+from+datetime+pandas)\n",
    "7. Control the color of barplots built with matplotlib: (https://www.python-graph-gallery.com/3-control-color-of-barplots)\n",
    "8. Flag of Brazil: (https://en.wikipedia.org/wiki/Flag_of_Brazil)\n",
    "9. Better visualization of Pie charts by MatPlotLib: \n",
    "(https://medium.com/@kvnamipara/a-better-visualisation-of-pie-charts-by-matplotlib-935b7667d77f)\n",
    "10. Python Functions: (https://www.w3schools.com/python/python_functions.asp)\n",
    "11. Python functions – Avoid repeating code: https://www.packt.com/python-functions-avoid-repeating-code/"
   ]
  },
  {
   "cell_type": "code",
   "execution_count": 128,
   "metadata": {},
   "outputs": [
    {
     "data": {
      "text/plain": [
       "1"
      ]
     },
     "execution_count": 128,
     "metadata": {},
     "output_type": "execute_result"
    }
   ],
   "source": [
    "from subprocess import call\n",
    "call(['python', '-m', 'nbconvert', 'Anyama_Project_Resubmission.ipynb'])"
   ]
  }
 ],
 "metadata": {
  "kernelspec": {
   "display_name": "Python 3 (ipykernel)",
   "language": "python",
   "name": "python3"
  },
  "language_info": {
   "codemirror_mode": {
    "name": "ipython",
    "version": 3
   },
   "file_extension": ".py",
   "mimetype": "text/x-python",
   "name": "python",
   "nbconvert_exporter": "python",
   "pygments_lexer": "ipython3",
   "version": "3.9.7"
  }
 },
 "nbformat": 4,
 "nbformat_minor": 2
}
